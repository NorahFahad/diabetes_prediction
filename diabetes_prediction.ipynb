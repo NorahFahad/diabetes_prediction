{
  "nbformat": 4,
  "nbformat_minor": 0,
  "metadata": {
    "colab": {
      "provenance": [],
      "collapsed_sections": [
        "Pxsepjhyh4b5",
        "exwqBC5eiB-f",
        "_J63S5DgiRB_",
        "ZnCeOWEsiiYi",
        "aDCZVkJKYEtU",
        "icgWIWkomSYR",
        "fuQdKeCvm6tH",
        "MZIgGHvXnJ0g",
        "uCNoIWj_ly__",
        "gHx2Hr6Ym9IF",
        "vQ9EFeBXQgge",
        "5iSSoSn4Xeq8"
      ]
    },
    "kernelspec": {
      "name": "python3",
      "display_name": "Python 3"
    },
    "language_info": {
      "name": "python"
    },
    "gpuClass": "standard"
  },
  "cells": [
    {
      "cell_type": "markdown",
      "source": [
        "# Diabetes Dataset 🍬\n",
        "This is Diabetes prediction to the dataset [Diabetes Health Indicators Dataset](https://www.kaggle.com/datasets/alexteboul/diabetes-health-indicators-dataset?resource=download)\n"
      ],
      "metadata": {
        "id": "89XqKxG6cAnD"
      }
    },
    {
      "cell_type": "markdown",
      "source": [
        "## Dataset columns description\n",
        "\n",
        "| Column Name       | Description                                   |\n",
        "| -----------------------------------------------------------|:-----------------------------------------------------------:| \n",
        "| Diabetes_012| 0 = no diabetes 1 = prediabetes or diabetes                  |\n",
        "| HighBP    | 0 = no high BP 1 = high BP                                       |\n",
        "| HighChol  | 0 = no high cholesterol 1 = high cholesterol                     |\n",
        "| CholCheck | 0 = no cholesterol check in 5 years 1 = yes cholesterol check in 5 years     |   \n",
        "| BMI       | Body Mass Index                                                  |\n",
        "| Smoker    |Have you smoked at least 100 cigarettes in your entire life? <br>[Note: 5 packs = 100 cigarettes] 0 = no 1 = yes                                |\n",
        "| Stroke    | (Ever told) you had a stroke. 0 = no 1 = yes                     |\n",
        "| HeartDiseaseorAttack| coronary heart disease (CHD) or myocardial infarction (MI) 0 = no 1 = yes                                                            |\n",
        "| PhysActivity        | physical activity in past 30 days - not including job 0 = no 1 = yes                                                                   |\n",
        "| Fruits    | Consume Fruit 1 or more times per day 0 = no 1 = yes             |\n",
        "| Veggies   | Consume Vegetables 1 or more times per day 0 = no 1 = yes        |\n",
        "| HvyAlcoholConsump| Heavy drinkers (adult men having more than 14 drinks per week and adult women having<br> more than 7 drinks per week) 0 = no 1 = yes    |\n",
        "| AnyHealthcare| Have any kind of health care coverage, including health insurance, prepaid plans such as HMO, etc.<br> 0 = no 1 = yes                  |\n",
        "| NoDocbcCost| Was there a time in the past 12 months when you needed to see a doctor but could not because of cost?<br> 0 = no 1 = yes                       |\n",
        "| GenHlth | Would you say that in general your health is: scale 1-5 <br>1 = excellent 2 = very good 3 = good 4 = fair 5 = poor                             |\n",
        "| MentHlth  | Now thinking about your mental health, which includes stress, depression, and problems with emotions,<br> for how many days during the past 30 days was your mental health not good? scale 1-30 days                       |\n",
        "| PhysHlth | Now thinking about your physical health, which includes physical illness and injury, <br>for how many days during the past 30 days was your physical health not good? scale 1-30 days                                      |\n",
        "| DiffWalk| Do you have serious difficulty walking or climbing stairs? 0 = no 1 = yes                                                                          |\n",
        "| Sex |0 = female 1 = male                                                     |\n",
        "| Age | 13-level age category (_AGEG5YR see codebook) 1 = 18-24 9 = 60-64 13 = 80 or older                                                                    |\n",
        "| Education | Education level (EDUCA see codebook) scale 1-6 <br>  1 = Never attended school or only kindergarten 2 = Grades 1 through 8 (Elementary)  <br> 3 = Grades 9 through 11 (Some high school) 4 = Grade 12 or GED (High school graduate)  <br> 5 = College 1 year to 3 years (Some college or technical school)  <br> 6 = College 4 years or more (College graduate)                   |\n",
        "| Income | Income scale (INCOME2 see codebook) scale 1-8 <br>1=less than $10,000 5=less than $35,000 8=$75,000 or more  |\n"
      ],
      "metadata": {
        "id": "vZHFLUazchcA"
      }
    },
    {
      "cell_type": "markdown",
      "source": [
        "## **IMPORT LIBRARIES AND LOAD DATA📚**"
      ],
      "metadata": {
        "id": "Pxsepjhyh4b5"
      }
    },
    {
      "cell_type": "code",
      "execution_count": null,
      "metadata": {
        "id": "6BKX0ws7b1Uu"
      },
      "outputs": [],
      "source": [
        "#import Libraries\n",
        "import pandas as pd \n",
        "import numpy as np\n",
        "import seaborn as sns\n",
        "import matplotlib.pyplot as plt\n",
        "import warnings\n",
        "warnings.filterwarnings('ignore')"
      ]
    },
    {
      "cell_type": "code",
      "source": [
        "from google.colab import drive\n",
        "drive.mount('/content/drive')"
      ],
      "metadata": {
        "id": "-ZTYsKQsh81i",
        "colab": {
          "base_uri": "https://localhost:8080/"
        },
        "outputId": "dae65c0a-4452-49ed-9c18-d876378d8309"
      },
      "execution_count": null,
      "outputs": [
        {
          "output_type": "stream",
          "name": "stdout",
          "text": [
            "Mounted at /content/drive\n"
          ]
        }
      ]
    },
    {
      "cell_type": "code",
      "source": [
        "DATASET_PATH = '/content/drive/MyDrive/diabetes/diabetes_binary_health_indicators_BRFSS2015.csv'\n",
        "DATASET_PATH_ANALYSIS = '/content/drive/MyDrive/diabetes/diabetes_binary_5050split_health_indicators_BRFSS2015.csv' # this data for the visulization part\n",
        "data = pd.read_csv(DATASET_PATH) #read the csv file\n",
        "data_analysis = pd.read_csv(DATASET_PATH_ANALYSIS)"
      ],
      "metadata": {
        "id": "RJY3HajSh-Tr"
      },
      "execution_count": null,
      "outputs": []
    },
    {
      "cell_type": "markdown",
      "source": [
        "## **DATA EXPLORATION🔍**"
      ],
      "metadata": {
        "id": "exwqBC5eiB-f"
      }
    },
    {
      "cell_type": "code",
      "source": [
        "pd.set_option(\"display.max_columns\", 22) #to change the default number of columns to be displayed"
      ],
      "metadata": {
        "id": "ZTNp5kvaiCU5"
      },
      "execution_count": null,
      "outputs": []
    },
    {
      "cell_type": "code",
      "source": [
        "data.sample(10)"
      ],
      "metadata": {
        "colab": {
          "base_uri": "https://localhost:8080/",
          "height": 427
        },
        "id": "Yb_mRnWTiE6g",
        "outputId": "200ac127-8d63-419d-a6b1-4e101c071fda"
      },
      "execution_count": null,
      "outputs": [
        {
          "output_type": "execute_result",
          "data": {
            "text/plain": [
              "        Diabetes_binary  HighBP  HighChol  CholCheck   BMI  Smoker  Stroke  \\\n",
              "69562               0.0     0.0       0.0        1.0  21.0     0.0     0.0   \n",
              "181699              0.0     0.0       0.0        1.0  27.0     0.0     0.0   \n",
              "127309              0.0     1.0       0.0        1.0  23.0     1.0     0.0   \n",
              "195739              1.0     1.0       1.0        1.0  19.0     0.0     0.0   \n",
              "91633               0.0     0.0       0.0        0.0  21.0     0.0     0.0   \n",
              "249631              1.0     1.0       1.0        1.0  31.0     1.0     0.0   \n",
              "18342               0.0     1.0       0.0        1.0  28.0     0.0     0.0   \n",
              "184766              0.0     0.0       0.0        1.0  33.0     0.0     0.0   \n",
              "209501              0.0     1.0       0.0        1.0  28.0     0.0     0.0   \n",
              "76740               0.0     1.0       1.0        1.0  31.0     1.0     0.0   \n",
              "\n",
              "        HeartDiseaseorAttack  PhysActivity  Fruits  Veggies  \\\n",
              "69562                    0.0           1.0     1.0      1.0   \n",
              "181699                   0.0           1.0     1.0      1.0   \n",
              "127309                   0.0           1.0     1.0      1.0   \n",
              "195739                   0.0           1.0     1.0      1.0   \n",
              "91633                    0.0           1.0     1.0      1.0   \n",
              "249631                   0.0           0.0     1.0      1.0   \n",
              "18342                    0.0           1.0     1.0      1.0   \n",
              "184766                   0.0           1.0     0.0      1.0   \n",
              "209501                   0.0           1.0     1.0      1.0   \n",
              "76740                    1.0           1.0     1.0      1.0   \n",
              "\n",
              "        HvyAlcoholConsump  AnyHealthcare  NoDocbcCost  GenHlth  MentHlth  \\\n",
              "69562                 0.0            1.0          0.0      1.0       0.0   \n",
              "181699                0.0            0.0          0.0      1.0       0.0   \n",
              "127309                0.0            1.0          0.0      3.0       0.0   \n",
              "195739                1.0            1.0          0.0      2.0       0.0   \n",
              "91633                 0.0            1.0          0.0      1.0       0.0   \n",
              "249631                0.0            1.0          1.0      5.0      20.0   \n",
              "18342                 0.0            1.0          0.0      4.0       5.0   \n",
              "184766                0.0            1.0          0.0      1.0       0.0   \n",
              "209501                0.0            1.0          0.0      4.0       0.0   \n",
              "76740                 0.0            1.0          0.0      3.0       0.0   \n",
              "\n",
              "        PhysHlth  DiffWalk  Sex   Age  Education  Income  \n",
              "69562        0.0       0.0  0.0   7.0        6.0     8.0  \n",
              "181699       0.0       0.0  0.0   7.0        6.0     5.0  \n",
              "127309       3.0       0.0  0.0  12.0        4.0     7.0  \n",
              "195739      10.0       1.0  0.0   6.0        4.0     6.0  \n",
              "91633        0.0       0.0  1.0   4.0        6.0     6.0  \n",
              "249631      20.0       1.0  1.0   7.0        4.0     3.0  \n",
              "18342        8.0       0.0  0.0   5.0        4.0     5.0  \n",
              "184766       0.0       0.0  1.0   4.0        6.0     8.0  \n",
              "209501       5.0       0.0  1.0  10.0        5.0     5.0  \n",
              "76740        0.0       0.0  1.0  12.0        4.0     7.0  "
            ],
            "text/html": [
              "\n",
              "  <div id=\"df-72eb7a28-b83a-4b8d-ae33-e727e6aa04e5\">\n",
              "    <div class=\"colab-df-container\">\n",
              "      <div>\n",
              "<style scoped>\n",
              "    .dataframe tbody tr th:only-of-type {\n",
              "        vertical-align: middle;\n",
              "    }\n",
              "\n",
              "    .dataframe tbody tr th {\n",
              "        vertical-align: top;\n",
              "    }\n",
              "\n",
              "    .dataframe thead th {\n",
              "        text-align: right;\n",
              "    }\n",
              "</style>\n",
              "<table border=\"1\" class=\"dataframe\">\n",
              "  <thead>\n",
              "    <tr style=\"text-align: right;\">\n",
              "      <th></th>\n",
              "      <th>Diabetes_binary</th>\n",
              "      <th>HighBP</th>\n",
              "      <th>HighChol</th>\n",
              "      <th>CholCheck</th>\n",
              "      <th>BMI</th>\n",
              "      <th>Smoker</th>\n",
              "      <th>Stroke</th>\n",
              "      <th>HeartDiseaseorAttack</th>\n",
              "      <th>PhysActivity</th>\n",
              "      <th>Fruits</th>\n",
              "      <th>Veggies</th>\n",
              "      <th>HvyAlcoholConsump</th>\n",
              "      <th>AnyHealthcare</th>\n",
              "      <th>NoDocbcCost</th>\n",
              "      <th>GenHlth</th>\n",
              "      <th>MentHlth</th>\n",
              "      <th>PhysHlth</th>\n",
              "      <th>DiffWalk</th>\n",
              "      <th>Sex</th>\n",
              "      <th>Age</th>\n",
              "      <th>Education</th>\n",
              "      <th>Income</th>\n",
              "    </tr>\n",
              "  </thead>\n",
              "  <tbody>\n",
              "    <tr>\n",
              "      <th>69562</th>\n",
              "      <td>0.0</td>\n",
              "      <td>0.0</td>\n",
              "      <td>0.0</td>\n",
              "      <td>1.0</td>\n",
              "      <td>21.0</td>\n",
              "      <td>0.0</td>\n",
              "      <td>0.0</td>\n",
              "      <td>0.0</td>\n",
              "      <td>1.0</td>\n",
              "      <td>1.0</td>\n",
              "      <td>1.0</td>\n",
              "      <td>0.0</td>\n",
              "      <td>1.0</td>\n",
              "      <td>0.0</td>\n",
              "      <td>1.0</td>\n",
              "      <td>0.0</td>\n",
              "      <td>0.0</td>\n",
              "      <td>0.0</td>\n",
              "      <td>0.0</td>\n",
              "      <td>7.0</td>\n",
              "      <td>6.0</td>\n",
              "      <td>8.0</td>\n",
              "    </tr>\n",
              "    <tr>\n",
              "      <th>181699</th>\n",
              "      <td>0.0</td>\n",
              "      <td>0.0</td>\n",
              "      <td>0.0</td>\n",
              "      <td>1.0</td>\n",
              "      <td>27.0</td>\n",
              "      <td>0.0</td>\n",
              "      <td>0.0</td>\n",
              "      <td>0.0</td>\n",
              "      <td>1.0</td>\n",
              "      <td>1.0</td>\n",
              "      <td>1.0</td>\n",
              "      <td>0.0</td>\n",
              "      <td>0.0</td>\n",
              "      <td>0.0</td>\n",
              "      <td>1.0</td>\n",
              "      <td>0.0</td>\n",
              "      <td>0.0</td>\n",
              "      <td>0.0</td>\n",
              "      <td>0.0</td>\n",
              "      <td>7.0</td>\n",
              "      <td>6.0</td>\n",
              "      <td>5.0</td>\n",
              "    </tr>\n",
              "    <tr>\n",
              "      <th>127309</th>\n",
              "      <td>0.0</td>\n",
              "      <td>1.0</td>\n",
              "      <td>0.0</td>\n",
              "      <td>1.0</td>\n",
              "      <td>23.0</td>\n",
              "      <td>1.0</td>\n",
              "      <td>0.0</td>\n",
              "      <td>0.0</td>\n",
              "      <td>1.0</td>\n",
              "      <td>1.0</td>\n",
              "      <td>1.0</td>\n",
              "      <td>0.0</td>\n",
              "      <td>1.0</td>\n",
              "      <td>0.0</td>\n",
              "      <td>3.0</td>\n",
              "      <td>0.0</td>\n",
              "      <td>3.0</td>\n",
              "      <td>0.0</td>\n",
              "      <td>0.0</td>\n",
              "      <td>12.0</td>\n",
              "      <td>4.0</td>\n",
              "      <td>7.0</td>\n",
              "    </tr>\n",
              "    <tr>\n",
              "      <th>195739</th>\n",
              "      <td>1.0</td>\n",
              "      <td>1.0</td>\n",
              "      <td>1.0</td>\n",
              "      <td>1.0</td>\n",
              "      <td>19.0</td>\n",
              "      <td>0.0</td>\n",
              "      <td>0.0</td>\n",
              "      <td>0.0</td>\n",
              "      <td>1.0</td>\n",
              "      <td>1.0</td>\n",
              "      <td>1.0</td>\n",
              "      <td>1.0</td>\n",
              "      <td>1.0</td>\n",
              "      <td>0.0</td>\n",
              "      <td>2.0</td>\n",
              "      <td>0.0</td>\n",
              "      <td>10.0</td>\n",
              "      <td>1.0</td>\n",
              "      <td>0.0</td>\n",
              "      <td>6.0</td>\n",
              "      <td>4.0</td>\n",
              "      <td>6.0</td>\n",
              "    </tr>\n",
              "    <tr>\n",
              "      <th>91633</th>\n",
              "      <td>0.0</td>\n",
              "      <td>0.0</td>\n",
              "      <td>0.0</td>\n",
              "      <td>0.0</td>\n",
              "      <td>21.0</td>\n",
              "      <td>0.0</td>\n",
              "      <td>0.0</td>\n",
              "      <td>0.0</td>\n",
              "      <td>1.0</td>\n",
              "      <td>1.0</td>\n",
              "      <td>1.0</td>\n",
              "      <td>0.0</td>\n",
              "      <td>1.0</td>\n",
              "      <td>0.0</td>\n",
              "      <td>1.0</td>\n",
              "      <td>0.0</td>\n",
              "      <td>0.0</td>\n",
              "      <td>0.0</td>\n",
              "      <td>1.0</td>\n",
              "      <td>4.0</td>\n",
              "      <td>6.0</td>\n",
              "      <td>6.0</td>\n",
              "    </tr>\n",
              "    <tr>\n",
              "      <th>249631</th>\n",
              "      <td>1.0</td>\n",
              "      <td>1.0</td>\n",
              "      <td>1.0</td>\n",
              "      <td>1.0</td>\n",
              "      <td>31.0</td>\n",
              "      <td>1.0</td>\n",
              "      <td>0.0</td>\n",
              "      <td>0.0</td>\n",
              "      <td>0.0</td>\n",
              "      <td>1.0</td>\n",
              "      <td>1.0</td>\n",
              "      <td>0.0</td>\n",
              "      <td>1.0</td>\n",
              "      <td>1.0</td>\n",
              "      <td>5.0</td>\n",
              "      <td>20.0</td>\n",
              "      <td>20.0</td>\n",
              "      <td>1.0</td>\n",
              "      <td>1.0</td>\n",
              "      <td>7.0</td>\n",
              "      <td>4.0</td>\n",
              "      <td>3.0</td>\n",
              "    </tr>\n",
              "    <tr>\n",
              "      <th>18342</th>\n",
              "      <td>0.0</td>\n",
              "      <td>1.0</td>\n",
              "      <td>0.0</td>\n",
              "      <td>1.0</td>\n",
              "      <td>28.0</td>\n",
              "      <td>0.0</td>\n",
              "      <td>0.0</td>\n",
              "      <td>0.0</td>\n",
              "      <td>1.0</td>\n",
              "      <td>1.0</td>\n",
              "      <td>1.0</td>\n",
              "      <td>0.0</td>\n",
              "      <td>1.0</td>\n",
              "      <td>0.0</td>\n",
              "      <td>4.0</td>\n",
              "      <td>5.0</td>\n",
              "      <td>8.0</td>\n",
              "      <td>0.0</td>\n",
              "      <td>0.0</td>\n",
              "      <td>5.0</td>\n",
              "      <td>4.0</td>\n",
              "      <td>5.0</td>\n",
              "    </tr>\n",
              "    <tr>\n",
              "      <th>184766</th>\n",
              "      <td>0.0</td>\n",
              "      <td>0.0</td>\n",
              "      <td>0.0</td>\n",
              "      <td>1.0</td>\n",
              "      <td>33.0</td>\n",
              "      <td>0.0</td>\n",
              "      <td>0.0</td>\n",
              "      <td>0.0</td>\n",
              "      <td>1.0</td>\n",
              "      <td>0.0</td>\n",
              "      <td>1.0</td>\n",
              "      <td>0.0</td>\n",
              "      <td>1.0</td>\n",
              "      <td>0.0</td>\n",
              "      <td>1.0</td>\n",
              "      <td>0.0</td>\n",
              "      <td>0.0</td>\n",
              "      <td>0.0</td>\n",
              "      <td>1.0</td>\n",
              "      <td>4.0</td>\n",
              "      <td>6.0</td>\n",
              "      <td>8.0</td>\n",
              "    </tr>\n",
              "    <tr>\n",
              "      <th>209501</th>\n",
              "      <td>0.0</td>\n",
              "      <td>1.0</td>\n",
              "      <td>0.0</td>\n",
              "      <td>1.0</td>\n",
              "      <td>28.0</td>\n",
              "      <td>0.0</td>\n",
              "      <td>0.0</td>\n",
              "      <td>0.0</td>\n",
              "      <td>1.0</td>\n",
              "      <td>1.0</td>\n",
              "      <td>1.0</td>\n",
              "      <td>0.0</td>\n",
              "      <td>1.0</td>\n",
              "      <td>0.0</td>\n",
              "      <td>4.0</td>\n",
              "      <td>0.0</td>\n",
              "      <td>5.0</td>\n",
              "      <td>0.0</td>\n",
              "      <td>1.0</td>\n",
              "      <td>10.0</td>\n",
              "      <td>5.0</td>\n",
              "      <td>5.0</td>\n",
              "    </tr>\n",
              "    <tr>\n",
              "      <th>76740</th>\n",
              "      <td>0.0</td>\n",
              "      <td>1.0</td>\n",
              "      <td>1.0</td>\n",
              "      <td>1.0</td>\n",
              "      <td>31.0</td>\n",
              "      <td>1.0</td>\n",
              "      <td>0.0</td>\n",
              "      <td>1.0</td>\n",
              "      <td>1.0</td>\n",
              "      <td>1.0</td>\n",
              "      <td>1.0</td>\n",
              "      <td>0.0</td>\n",
              "      <td>1.0</td>\n",
              "      <td>0.0</td>\n",
              "      <td>3.0</td>\n",
              "      <td>0.0</td>\n",
              "      <td>0.0</td>\n",
              "      <td>0.0</td>\n",
              "      <td>1.0</td>\n",
              "      <td>12.0</td>\n",
              "      <td>4.0</td>\n",
              "      <td>7.0</td>\n",
              "    </tr>\n",
              "  </tbody>\n",
              "</table>\n",
              "</div>\n",
              "      <button class=\"colab-df-convert\" onclick=\"convertToInteractive('df-72eb7a28-b83a-4b8d-ae33-e727e6aa04e5')\"\n",
              "              title=\"Convert this dataframe to an interactive table.\"\n",
              "              style=\"display:none;\">\n",
              "        \n",
              "  <svg xmlns=\"http://www.w3.org/2000/svg\" height=\"24px\"viewBox=\"0 0 24 24\"\n",
              "       width=\"24px\">\n",
              "    <path d=\"M0 0h24v24H0V0z\" fill=\"none\"/>\n",
              "    <path d=\"M18.56 5.44l.94 2.06.94-2.06 2.06-.94-2.06-.94-.94-2.06-.94 2.06-2.06.94zm-11 1L8.5 8.5l.94-2.06 2.06-.94-2.06-.94L8.5 2.5l-.94 2.06-2.06.94zm10 10l.94 2.06.94-2.06 2.06-.94-2.06-.94-.94-2.06-.94 2.06-2.06.94z\"/><path d=\"M17.41 7.96l-1.37-1.37c-.4-.4-.92-.59-1.43-.59-.52 0-1.04.2-1.43.59L10.3 9.45l-7.72 7.72c-.78.78-.78 2.05 0 2.83L4 21.41c.39.39.9.59 1.41.59.51 0 1.02-.2 1.41-.59l7.78-7.78 2.81-2.81c.8-.78.8-2.07 0-2.86zM5.41 20L4 18.59l7.72-7.72 1.47 1.35L5.41 20z\"/>\n",
              "  </svg>\n",
              "      </button>\n",
              "      \n",
              "  <style>\n",
              "    .colab-df-container {\n",
              "      display:flex;\n",
              "      flex-wrap:wrap;\n",
              "      gap: 12px;\n",
              "    }\n",
              "\n",
              "    .colab-df-convert {\n",
              "      background-color: #E8F0FE;\n",
              "      border: none;\n",
              "      border-radius: 50%;\n",
              "      cursor: pointer;\n",
              "      display: none;\n",
              "      fill: #1967D2;\n",
              "      height: 32px;\n",
              "      padding: 0 0 0 0;\n",
              "      width: 32px;\n",
              "    }\n",
              "\n",
              "    .colab-df-convert:hover {\n",
              "      background-color: #E2EBFA;\n",
              "      box-shadow: 0px 1px 2px rgba(60, 64, 67, 0.3), 0px 1px 3px 1px rgba(60, 64, 67, 0.15);\n",
              "      fill: #174EA6;\n",
              "    }\n",
              "\n",
              "    [theme=dark] .colab-df-convert {\n",
              "      background-color: #3B4455;\n",
              "      fill: #D2E3FC;\n",
              "    }\n",
              "\n",
              "    [theme=dark] .colab-df-convert:hover {\n",
              "      background-color: #434B5C;\n",
              "      box-shadow: 0px 1px 3px 1px rgba(0, 0, 0, 0.15);\n",
              "      filter: drop-shadow(0px 1px 2px rgba(0, 0, 0, 0.3));\n",
              "      fill: #FFFFFF;\n",
              "    }\n",
              "  </style>\n",
              "\n",
              "      <script>\n",
              "        const buttonEl =\n",
              "          document.querySelector('#df-72eb7a28-b83a-4b8d-ae33-e727e6aa04e5 button.colab-df-convert');\n",
              "        buttonEl.style.display =\n",
              "          google.colab.kernel.accessAllowed ? 'block' : 'none';\n",
              "\n",
              "        async function convertToInteractive(key) {\n",
              "          const element = document.querySelector('#df-72eb7a28-b83a-4b8d-ae33-e727e6aa04e5');\n",
              "          const dataTable =\n",
              "            await google.colab.kernel.invokeFunction('convertToInteractive',\n",
              "                                                     [key], {});\n",
              "          if (!dataTable) return;\n",
              "\n",
              "          const docLinkHtml = 'Like what you see? Visit the ' +\n",
              "            '<a target=\"_blank\" href=https://colab.research.google.com/notebooks/data_table.ipynb>data table notebook</a>'\n",
              "            + ' to learn more about interactive tables.';\n",
              "          element.innerHTML = '';\n",
              "          dataTable['output_type'] = 'display_data';\n",
              "          await google.colab.output.renderOutput(dataTable, element);\n",
              "          const docLink = document.createElement('div');\n",
              "          docLink.innerHTML = docLinkHtml;\n",
              "          element.appendChild(docLink);\n",
              "        }\n",
              "      </script>\n",
              "    </div>\n",
              "  </div>\n",
              "  "
            ]
          },
          "metadata": {},
          "execution_count": 7
        }
      ]
    },
    {
      "cell_type": "code",
      "source": [
        "data.columns"
      ],
      "metadata": {
        "colab": {
          "base_uri": "https://localhost:8080/"
        },
        "id": "Ur5kacg0iGQH",
        "outputId": "4e566043-db97-4ede-81f7-ab9f4735b494"
      },
      "execution_count": null,
      "outputs": [
        {
          "output_type": "execute_result",
          "data": {
            "text/plain": [
              "Index(['Diabetes_binary', 'HighBP', 'HighChol', 'CholCheck', 'BMI', 'Smoker',\n",
              "       'Stroke', 'HeartDiseaseorAttack', 'PhysActivity', 'Fruits', 'Veggies',\n",
              "       'HvyAlcoholConsump', 'AnyHealthcare', 'NoDocbcCost', 'GenHlth',\n",
              "       'MentHlth', 'PhysHlth', 'DiffWalk', 'Sex', 'Age', 'Education',\n",
              "       'Income'],\n",
              "      dtype='object')"
            ]
          },
          "metadata": {},
          "execution_count": 8
        }
      ]
    },
    {
      "cell_type": "code",
      "source": [
        "data.shape # (No. rows, No. columns)"
      ],
      "metadata": {
        "colab": {
          "base_uri": "https://localhost:8080/"
        },
        "id": "LCv_3EwxiHl_",
        "outputId": "ae4e9934-b57e-4aec-d64f-b2a67191b358"
      },
      "execution_count": null,
      "outputs": [
        {
          "output_type": "execute_result",
          "data": {
            "text/plain": [
              "(253680, 22)"
            ]
          },
          "metadata": {},
          "execution_count": 9
        }
      ]
    },
    {
      "cell_type": "code",
      "source": [
        "data.nunique() # the number of unique value in each column"
      ],
      "metadata": {
        "colab": {
          "base_uri": "https://localhost:8080/"
        },
        "id": "MnRCo0utiIxz",
        "outputId": "ab605ec1-b914-42b1-edc1-cd9bf4a7d952"
      },
      "execution_count": null,
      "outputs": [
        {
          "output_type": "execute_result",
          "data": {
            "text/plain": [
              "Diabetes_binary          2\n",
              "HighBP                   2\n",
              "HighChol                 2\n",
              "CholCheck                2\n",
              "BMI                     84\n",
              "Smoker                   2\n",
              "Stroke                   2\n",
              "HeartDiseaseorAttack     2\n",
              "PhysActivity             2\n",
              "Fruits                   2\n",
              "Veggies                  2\n",
              "HvyAlcoholConsump        2\n",
              "AnyHealthcare            2\n",
              "NoDocbcCost              2\n",
              "GenHlth                  5\n",
              "MentHlth                31\n",
              "PhysHlth                31\n",
              "DiffWalk                 2\n",
              "Sex                      2\n",
              "Age                     13\n",
              "Education                6\n",
              "Income                   8\n",
              "dtype: int64"
            ]
          },
          "metadata": {},
          "execution_count": 10
        }
      ]
    },
    {
      "cell_type": "code",
      "source": [
        "data.describe() #dataset describtion"
      ],
      "metadata": {
        "colab": {
          "base_uri": "https://localhost:8080/",
          "height": 364
        },
        "id": "Bw3FXrxDiKUr",
        "outputId": "e7b21dfe-8aa2-44a4-ef43-4d687c60a82e"
      },
      "execution_count": null,
      "outputs": [
        {
          "output_type": "execute_result",
          "data": {
            "text/plain": [
              "       Diabetes_binary         HighBP       HighChol      CholCheck  \\\n",
              "count    253680.000000  253680.000000  253680.000000  253680.000000   \n",
              "mean          0.139333       0.429001       0.424121       0.962670   \n",
              "std           0.346294       0.494934       0.494210       0.189571   \n",
              "min           0.000000       0.000000       0.000000       0.000000   \n",
              "25%           0.000000       0.000000       0.000000       1.000000   \n",
              "50%           0.000000       0.000000       0.000000       1.000000   \n",
              "75%           0.000000       1.000000       1.000000       1.000000   \n",
              "max           1.000000       1.000000       1.000000       1.000000   \n",
              "\n",
              "                 BMI         Smoker         Stroke  HeartDiseaseorAttack  \\\n",
              "count  253680.000000  253680.000000  253680.000000         253680.000000   \n",
              "mean       28.382364       0.443169       0.040571              0.094186   \n",
              "std         6.608694       0.496761       0.197294              0.292087   \n",
              "min        12.000000       0.000000       0.000000              0.000000   \n",
              "25%        24.000000       0.000000       0.000000              0.000000   \n",
              "50%        27.000000       0.000000       0.000000              0.000000   \n",
              "75%        31.000000       1.000000       0.000000              0.000000   \n",
              "max        98.000000       1.000000       1.000000              1.000000   \n",
              "\n",
              "        PhysActivity         Fruits        Veggies  HvyAlcoholConsump  \\\n",
              "count  253680.000000  253680.000000  253680.000000      253680.000000   \n",
              "mean        0.756544       0.634256       0.811420           0.056197   \n",
              "std         0.429169       0.481639       0.391175           0.230302   \n",
              "min         0.000000       0.000000       0.000000           0.000000   \n",
              "25%         1.000000       0.000000       1.000000           0.000000   \n",
              "50%         1.000000       1.000000       1.000000           0.000000   \n",
              "75%         1.000000       1.000000       1.000000           0.000000   \n",
              "max         1.000000       1.000000       1.000000           1.000000   \n",
              "\n",
              "       AnyHealthcare    NoDocbcCost        GenHlth       MentHlth  \\\n",
              "count  253680.000000  253680.000000  253680.000000  253680.000000   \n",
              "mean        0.951053       0.084177       2.511392       3.184772   \n",
              "std         0.215759       0.277654       1.068477       7.412847   \n",
              "min         0.000000       0.000000       1.000000       0.000000   \n",
              "25%         1.000000       0.000000       2.000000       0.000000   \n",
              "50%         1.000000       0.000000       2.000000       0.000000   \n",
              "75%         1.000000       0.000000       3.000000       2.000000   \n",
              "max         1.000000       1.000000       5.000000      30.000000   \n",
              "\n",
              "            PhysHlth       DiffWalk            Sex            Age  \\\n",
              "count  253680.000000  253680.000000  253680.000000  253680.000000   \n",
              "mean        4.242081       0.168224       0.440342       8.032119   \n",
              "std         8.717951       0.374066       0.496429       3.054220   \n",
              "min         0.000000       0.000000       0.000000       1.000000   \n",
              "25%         0.000000       0.000000       0.000000       6.000000   \n",
              "50%         0.000000       0.000000       0.000000       8.000000   \n",
              "75%         3.000000       0.000000       1.000000      10.000000   \n",
              "max        30.000000       1.000000       1.000000      13.000000   \n",
              "\n",
              "           Education         Income  \n",
              "count  253680.000000  253680.000000  \n",
              "mean        5.050434       6.053875  \n",
              "std         0.985774       2.071148  \n",
              "min         1.000000       1.000000  \n",
              "25%         4.000000       5.000000  \n",
              "50%         5.000000       7.000000  \n",
              "75%         6.000000       8.000000  \n",
              "max         6.000000       8.000000  "
            ],
            "text/html": [
              "\n",
              "  <div id=\"df-ea46df5b-5e18-403e-bd30-1682eadf4519\">\n",
              "    <div class=\"colab-df-container\">\n",
              "      <div>\n",
              "<style scoped>\n",
              "    .dataframe tbody tr th:only-of-type {\n",
              "        vertical-align: middle;\n",
              "    }\n",
              "\n",
              "    .dataframe tbody tr th {\n",
              "        vertical-align: top;\n",
              "    }\n",
              "\n",
              "    .dataframe thead th {\n",
              "        text-align: right;\n",
              "    }\n",
              "</style>\n",
              "<table border=\"1\" class=\"dataframe\">\n",
              "  <thead>\n",
              "    <tr style=\"text-align: right;\">\n",
              "      <th></th>\n",
              "      <th>Diabetes_binary</th>\n",
              "      <th>HighBP</th>\n",
              "      <th>HighChol</th>\n",
              "      <th>CholCheck</th>\n",
              "      <th>BMI</th>\n",
              "      <th>Smoker</th>\n",
              "      <th>Stroke</th>\n",
              "      <th>HeartDiseaseorAttack</th>\n",
              "      <th>PhysActivity</th>\n",
              "      <th>Fruits</th>\n",
              "      <th>Veggies</th>\n",
              "      <th>HvyAlcoholConsump</th>\n",
              "      <th>AnyHealthcare</th>\n",
              "      <th>NoDocbcCost</th>\n",
              "      <th>GenHlth</th>\n",
              "      <th>MentHlth</th>\n",
              "      <th>PhysHlth</th>\n",
              "      <th>DiffWalk</th>\n",
              "      <th>Sex</th>\n",
              "      <th>Age</th>\n",
              "      <th>Education</th>\n",
              "      <th>Income</th>\n",
              "    </tr>\n",
              "  </thead>\n",
              "  <tbody>\n",
              "    <tr>\n",
              "      <th>count</th>\n",
              "      <td>253680.000000</td>\n",
              "      <td>253680.000000</td>\n",
              "      <td>253680.000000</td>\n",
              "      <td>253680.000000</td>\n",
              "      <td>253680.000000</td>\n",
              "      <td>253680.000000</td>\n",
              "      <td>253680.000000</td>\n",
              "      <td>253680.000000</td>\n",
              "      <td>253680.000000</td>\n",
              "      <td>253680.000000</td>\n",
              "      <td>253680.000000</td>\n",
              "      <td>253680.000000</td>\n",
              "      <td>253680.000000</td>\n",
              "      <td>253680.000000</td>\n",
              "      <td>253680.000000</td>\n",
              "      <td>253680.000000</td>\n",
              "      <td>253680.000000</td>\n",
              "      <td>253680.000000</td>\n",
              "      <td>253680.000000</td>\n",
              "      <td>253680.000000</td>\n",
              "      <td>253680.000000</td>\n",
              "      <td>253680.000000</td>\n",
              "    </tr>\n",
              "    <tr>\n",
              "      <th>mean</th>\n",
              "      <td>0.139333</td>\n",
              "      <td>0.429001</td>\n",
              "      <td>0.424121</td>\n",
              "      <td>0.962670</td>\n",
              "      <td>28.382364</td>\n",
              "      <td>0.443169</td>\n",
              "      <td>0.040571</td>\n",
              "      <td>0.094186</td>\n",
              "      <td>0.756544</td>\n",
              "      <td>0.634256</td>\n",
              "      <td>0.811420</td>\n",
              "      <td>0.056197</td>\n",
              "      <td>0.951053</td>\n",
              "      <td>0.084177</td>\n",
              "      <td>2.511392</td>\n",
              "      <td>3.184772</td>\n",
              "      <td>4.242081</td>\n",
              "      <td>0.168224</td>\n",
              "      <td>0.440342</td>\n",
              "      <td>8.032119</td>\n",
              "      <td>5.050434</td>\n",
              "      <td>6.053875</td>\n",
              "    </tr>\n",
              "    <tr>\n",
              "      <th>std</th>\n",
              "      <td>0.346294</td>\n",
              "      <td>0.494934</td>\n",
              "      <td>0.494210</td>\n",
              "      <td>0.189571</td>\n",
              "      <td>6.608694</td>\n",
              "      <td>0.496761</td>\n",
              "      <td>0.197294</td>\n",
              "      <td>0.292087</td>\n",
              "      <td>0.429169</td>\n",
              "      <td>0.481639</td>\n",
              "      <td>0.391175</td>\n",
              "      <td>0.230302</td>\n",
              "      <td>0.215759</td>\n",
              "      <td>0.277654</td>\n",
              "      <td>1.068477</td>\n",
              "      <td>7.412847</td>\n",
              "      <td>8.717951</td>\n",
              "      <td>0.374066</td>\n",
              "      <td>0.496429</td>\n",
              "      <td>3.054220</td>\n",
              "      <td>0.985774</td>\n",
              "      <td>2.071148</td>\n",
              "    </tr>\n",
              "    <tr>\n",
              "      <th>min</th>\n",
              "      <td>0.000000</td>\n",
              "      <td>0.000000</td>\n",
              "      <td>0.000000</td>\n",
              "      <td>0.000000</td>\n",
              "      <td>12.000000</td>\n",
              "      <td>0.000000</td>\n",
              "      <td>0.000000</td>\n",
              "      <td>0.000000</td>\n",
              "      <td>0.000000</td>\n",
              "      <td>0.000000</td>\n",
              "      <td>0.000000</td>\n",
              "      <td>0.000000</td>\n",
              "      <td>0.000000</td>\n",
              "      <td>0.000000</td>\n",
              "      <td>1.000000</td>\n",
              "      <td>0.000000</td>\n",
              "      <td>0.000000</td>\n",
              "      <td>0.000000</td>\n",
              "      <td>0.000000</td>\n",
              "      <td>1.000000</td>\n",
              "      <td>1.000000</td>\n",
              "      <td>1.000000</td>\n",
              "    </tr>\n",
              "    <tr>\n",
              "      <th>25%</th>\n",
              "      <td>0.000000</td>\n",
              "      <td>0.000000</td>\n",
              "      <td>0.000000</td>\n",
              "      <td>1.000000</td>\n",
              "      <td>24.000000</td>\n",
              "      <td>0.000000</td>\n",
              "      <td>0.000000</td>\n",
              "      <td>0.000000</td>\n",
              "      <td>1.000000</td>\n",
              "      <td>0.000000</td>\n",
              "      <td>1.000000</td>\n",
              "      <td>0.000000</td>\n",
              "      <td>1.000000</td>\n",
              "      <td>0.000000</td>\n",
              "      <td>2.000000</td>\n",
              "      <td>0.000000</td>\n",
              "      <td>0.000000</td>\n",
              "      <td>0.000000</td>\n",
              "      <td>0.000000</td>\n",
              "      <td>6.000000</td>\n",
              "      <td>4.000000</td>\n",
              "      <td>5.000000</td>\n",
              "    </tr>\n",
              "    <tr>\n",
              "      <th>50%</th>\n",
              "      <td>0.000000</td>\n",
              "      <td>0.000000</td>\n",
              "      <td>0.000000</td>\n",
              "      <td>1.000000</td>\n",
              "      <td>27.000000</td>\n",
              "      <td>0.000000</td>\n",
              "      <td>0.000000</td>\n",
              "      <td>0.000000</td>\n",
              "      <td>1.000000</td>\n",
              "      <td>1.000000</td>\n",
              "      <td>1.000000</td>\n",
              "      <td>0.000000</td>\n",
              "      <td>1.000000</td>\n",
              "      <td>0.000000</td>\n",
              "      <td>2.000000</td>\n",
              "      <td>0.000000</td>\n",
              "      <td>0.000000</td>\n",
              "      <td>0.000000</td>\n",
              "      <td>0.000000</td>\n",
              "      <td>8.000000</td>\n",
              "      <td>5.000000</td>\n",
              "      <td>7.000000</td>\n",
              "    </tr>\n",
              "    <tr>\n",
              "      <th>75%</th>\n",
              "      <td>0.000000</td>\n",
              "      <td>1.000000</td>\n",
              "      <td>1.000000</td>\n",
              "      <td>1.000000</td>\n",
              "      <td>31.000000</td>\n",
              "      <td>1.000000</td>\n",
              "      <td>0.000000</td>\n",
              "      <td>0.000000</td>\n",
              "      <td>1.000000</td>\n",
              "      <td>1.000000</td>\n",
              "      <td>1.000000</td>\n",
              "      <td>0.000000</td>\n",
              "      <td>1.000000</td>\n",
              "      <td>0.000000</td>\n",
              "      <td>3.000000</td>\n",
              "      <td>2.000000</td>\n",
              "      <td>3.000000</td>\n",
              "      <td>0.000000</td>\n",
              "      <td>1.000000</td>\n",
              "      <td>10.000000</td>\n",
              "      <td>6.000000</td>\n",
              "      <td>8.000000</td>\n",
              "    </tr>\n",
              "    <tr>\n",
              "      <th>max</th>\n",
              "      <td>1.000000</td>\n",
              "      <td>1.000000</td>\n",
              "      <td>1.000000</td>\n",
              "      <td>1.000000</td>\n",
              "      <td>98.000000</td>\n",
              "      <td>1.000000</td>\n",
              "      <td>1.000000</td>\n",
              "      <td>1.000000</td>\n",
              "      <td>1.000000</td>\n",
              "      <td>1.000000</td>\n",
              "      <td>1.000000</td>\n",
              "      <td>1.000000</td>\n",
              "      <td>1.000000</td>\n",
              "      <td>1.000000</td>\n",
              "      <td>5.000000</td>\n",
              "      <td>30.000000</td>\n",
              "      <td>30.000000</td>\n",
              "      <td>1.000000</td>\n",
              "      <td>1.000000</td>\n",
              "      <td>13.000000</td>\n",
              "      <td>6.000000</td>\n",
              "      <td>8.000000</td>\n",
              "    </tr>\n",
              "  </tbody>\n",
              "</table>\n",
              "</div>\n",
              "      <button class=\"colab-df-convert\" onclick=\"convertToInteractive('df-ea46df5b-5e18-403e-bd30-1682eadf4519')\"\n",
              "              title=\"Convert this dataframe to an interactive table.\"\n",
              "              style=\"display:none;\">\n",
              "        \n",
              "  <svg xmlns=\"http://www.w3.org/2000/svg\" height=\"24px\"viewBox=\"0 0 24 24\"\n",
              "       width=\"24px\">\n",
              "    <path d=\"M0 0h24v24H0V0z\" fill=\"none\"/>\n",
              "    <path d=\"M18.56 5.44l.94 2.06.94-2.06 2.06-.94-2.06-.94-.94-2.06-.94 2.06-2.06.94zm-11 1L8.5 8.5l.94-2.06 2.06-.94-2.06-.94L8.5 2.5l-.94 2.06-2.06.94zm10 10l.94 2.06.94-2.06 2.06-.94-2.06-.94-.94-2.06-.94 2.06-2.06.94z\"/><path d=\"M17.41 7.96l-1.37-1.37c-.4-.4-.92-.59-1.43-.59-.52 0-1.04.2-1.43.59L10.3 9.45l-7.72 7.72c-.78.78-.78 2.05 0 2.83L4 21.41c.39.39.9.59 1.41.59.51 0 1.02-.2 1.41-.59l7.78-7.78 2.81-2.81c.8-.78.8-2.07 0-2.86zM5.41 20L4 18.59l7.72-7.72 1.47 1.35L5.41 20z\"/>\n",
              "  </svg>\n",
              "      </button>\n",
              "      \n",
              "  <style>\n",
              "    .colab-df-container {\n",
              "      display:flex;\n",
              "      flex-wrap:wrap;\n",
              "      gap: 12px;\n",
              "    }\n",
              "\n",
              "    .colab-df-convert {\n",
              "      background-color: #E8F0FE;\n",
              "      border: none;\n",
              "      border-radius: 50%;\n",
              "      cursor: pointer;\n",
              "      display: none;\n",
              "      fill: #1967D2;\n",
              "      height: 32px;\n",
              "      padding: 0 0 0 0;\n",
              "      width: 32px;\n",
              "    }\n",
              "\n",
              "    .colab-df-convert:hover {\n",
              "      background-color: #E2EBFA;\n",
              "      box-shadow: 0px 1px 2px rgba(60, 64, 67, 0.3), 0px 1px 3px 1px rgba(60, 64, 67, 0.15);\n",
              "      fill: #174EA6;\n",
              "    }\n",
              "\n",
              "    [theme=dark] .colab-df-convert {\n",
              "      background-color: #3B4455;\n",
              "      fill: #D2E3FC;\n",
              "    }\n",
              "\n",
              "    [theme=dark] .colab-df-convert:hover {\n",
              "      background-color: #434B5C;\n",
              "      box-shadow: 0px 1px 3px 1px rgba(0, 0, 0, 0.15);\n",
              "      filter: drop-shadow(0px 1px 2px rgba(0, 0, 0, 0.3));\n",
              "      fill: #FFFFFF;\n",
              "    }\n",
              "  </style>\n",
              "\n",
              "      <script>\n",
              "        const buttonEl =\n",
              "          document.querySelector('#df-ea46df5b-5e18-403e-bd30-1682eadf4519 button.colab-df-convert');\n",
              "        buttonEl.style.display =\n",
              "          google.colab.kernel.accessAllowed ? 'block' : 'none';\n",
              "\n",
              "        async function convertToInteractive(key) {\n",
              "          const element = document.querySelector('#df-ea46df5b-5e18-403e-bd30-1682eadf4519');\n",
              "          const dataTable =\n",
              "            await google.colab.kernel.invokeFunction('convertToInteractive',\n",
              "                                                     [key], {});\n",
              "          if (!dataTable) return;\n",
              "\n",
              "          const docLinkHtml = 'Like what you see? Visit the ' +\n",
              "            '<a target=\"_blank\" href=https://colab.research.google.com/notebooks/data_table.ipynb>data table notebook</a>'\n",
              "            + ' to learn more about interactive tables.';\n",
              "          element.innerHTML = '';\n",
              "          dataTable['output_type'] = 'display_data';\n",
              "          await google.colab.output.renderOutput(dataTable, element);\n",
              "          const docLink = document.createElement('div');\n",
              "          docLink.innerHTML = docLinkHtml;\n",
              "          element.appendChild(docLink);\n",
              "        }\n",
              "      </script>\n",
              "    </div>\n",
              "  </div>\n",
              "  "
            ]
          },
          "metadata": {},
          "execution_count": 11
        }
      ]
    },
    {
      "cell_type": "code",
      "source": [
        "data.info() # information about the dataset columns, how many non null value and data type for each column"
      ],
      "metadata": {
        "colab": {
          "base_uri": "https://localhost:8080/"
        },
        "id": "ySutJ9IYiLWD",
        "outputId": "00f8616a-b06f-43a3-e93d-5da0889c1b74"
      },
      "execution_count": null,
      "outputs": [
        {
          "output_type": "stream",
          "name": "stdout",
          "text": [
            "<class 'pandas.core.frame.DataFrame'>\n",
            "RangeIndex: 253680 entries, 0 to 253679\n",
            "Data columns (total 22 columns):\n",
            " #   Column                Non-Null Count   Dtype  \n",
            "---  ------                --------------   -----  \n",
            " 0   Diabetes_binary       253680 non-null  float64\n",
            " 1   HighBP                253680 non-null  float64\n",
            " 2   HighChol              253680 non-null  float64\n",
            " 3   CholCheck             253680 non-null  float64\n",
            " 4   BMI                   253680 non-null  float64\n",
            " 5   Smoker                253680 non-null  float64\n",
            " 6   Stroke                253680 non-null  float64\n",
            " 7   HeartDiseaseorAttack  253680 non-null  float64\n",
            " 8   PhysActivity          253680 non-null  float64\n",
            " 9   Fruits                253680 non-null  float64\n",
            " 10  Veggies               253680 non-null  float64\n",
            " 11  HvyAlcoholConsump     253680 non-null  float64\n",
            " 12  AnyHealthcare         253680 non-null  float64\n",
            " 13  NoDocbcCost           253680 non-null  float64\n",
            " 14  GenHlth               253680 non-null  float64\n",
            " 15  MentHlth              253680 non-null  float64\n",
            " 16  PhysHlth              253680 non-null  float64\n",
            " 17  DiffWalk              253680 non-null  float64\n",
            " 18  Sex                   253680 non-null  float64\n",
            " 19  Age                   253680 non-null  float64\n",
            " 20  Education             253680 non-null  float64\n",
            " 21  Income                253680 non-null  float64\n",
            "dtypes: float64(22)\n",
            "memory usage: 42.6 MB\n"
          ]
        }
      ]
    },
    {
      "cell_type": "code",
      "source": [
        "data['Diabetes_binary'].value_counts()"
      ],
      "metadata": {
        "colab": {
          "base_uri": "https://localhost:8080/"
        },
        "id": "e4J33T57iO-X",
        "outputId": "2bf4e308-8e3c-41eb-dd29-7302df908da9"
      },
      "execution_count": null,
      "outputs": [
        {
          "output_type": "execute_result",
          "data": {
            "text/plain": [
              "0.0    218334\n",
              "1.0     35346\n",
              "Name: Diabetes_binary, dtype: int64"
            ]
          },
          "metadata": {},
          "execution_count": 13
        }
      ]
    },
    {
      "cell_type": "markdown",
      "source": [
        "* Most of the patients have no diabetes "
      ],
      "metadata": {
        "id": "2NRKWlXBjRe6"
      }
    },
    {
      "cell_type": "code",
      "source": [
        "data['Sex'].value_counts()"
      ],
      "metadata": {
        "colab": {
          "base_uri": "https://localhost:8080/"
        },
        "id": "Zrb6RL4HjBQ9",
        "outputId": "f6d702bb-53be-443a-d8bf-0e04bc61f3ae"
      },
      "execution_count": null,
      "outputs": [
        {
          "output_type": "execute_result",
          "data": {
            "text/plain": [
              "0.0    141974\n",
              "1.0    111706\n",
              "Name: Sex, dtype: int64"
            ]
          },
          "metadata": {},
          "execution_count": 14
        }
      ]
    },
    {
      "cell_type": "markdown",
      "source": [
        "* Females is the most"
      ],
      "metadata": {
        "id": "uddq-HyCjI3d"
      }
    },
    {
      "cell_type": "code",
      "source": [
        "data['Smoker'].value_counts()"
      ],
      "metadata": {
        "colab": {
          "base_uri": "https://localhost:8080/"
        },
        "id": "YbmwgsRcjdIO",
        "outputId": "980c18a0-cab3-4f3a-e696-03df89743e93"
      },
      "execution_count": null,
      "outputs": [
        {
          "output_type": "execute_result",
          "data": {
            "text/plain": [
              "0.0    141257\n",
              "1.0    112423\n",
              "Name: Smoker, dtype: int64"
            ]
          },
          "metadata": {},
          "execution_count": 15
        }
      ]
    },
    {
      "cell_type": "markdown",
      "source": [
        "* Most of them NOT smoked at least 100 cigarettes in thier entire life"
      ],
      "metadata": {
        "id": "16hHhxKPjmbZ"
      }
    },
    {
      "cell_type": "code",
      "source": [
        "data['HvyAlcoholConsump'].value_counts()"
      ],
      "metadata": {
        "colab": {
          "base_uri": "https://localhost:8080/"
        },
        "id": "mI8GOTHPjraA",
        "outputId": "aee1818a-22cf-44a4-8748-a177f5ded86c"
      },
      "execution_count": null,
      "outputs": [
        {
          "output_type": "execute_result",
          "data": {
            "text/plain": [
              "0.0    239424\n",
              "1.0     14256\n",
              "Name: HvyAlcoholConsump, dtype: int64"
            ]
          },
          "metadata": {},
          "execution_count": 16
        }
      ]
    },
    {
      "cell_type": "code",
      "source": [
        "data['GenHlth'].value_counts()"
      ],
      "metadata": {
        "colab": {
          "base_uri": "https://localhost:8080/"
        },
        "id": "m3EY1u3z1y9_",
        "outputId": "79d6c3f2-af42-41ff-a205-cb996fe3622b"
      },
      "execution_count": null,
      "outputs": [
        {
          "output_type": "execute_result",
          "data": {
            "text/plain": [
              "2.0    89084\n",
              "3.0    75646\n",
              "1.0    45299\n",
              "4.0    31570\n",
              "5.0    12081\n",
              "Name: GenHlth, dtype: int64"
            ]
          },
          "metadata": {},
          "execution_count": 17
        }
      ]
    },
    {
      "cell_type": "markdown",
      "source": [
        "## **DATA CLEANING🧹**"
      ],
      "metadata": {
        "id": "_J63S5DgiRB_"
      }
    },
    {
      "cell_type": "markdown",
      "source": [
        "### drop unnecessary columns"
      ],
      "metadata": {
        "id": "7Vd82XNjiULk"
      }
    },
    {
      "cell_type": "code",
      "source": [
        "data.drop(columns=['Education', 'Income'], inplace=True) # delete 2 columns\n",
        "data_analysis.drop(columns=['Education', 'Income'], inplace=True) # delete 2 columns"
      ],
      "metadata": {
        "id": "UjTIoSqKiWV_"
      },
      "execution_count": null,
      "outputs": []
    },
    {
      "cell_type": "markdown",
      "source": [
        "### check for null in each column"
      ],
      "metadata": {
        "id": "Z4oobj-6iRHm"
      }
    },
    {
      "cell_type": "code",
      "source": [
        "data.isnull().sum()"
      ],
      "metadata": {
        "colab": {
          "base_uri": "https://localhost:8080/"
        },
        "id": "bV81-VEAiZUB",
        "outputId": "48c1591a-b4f2-42e7-c2c5-4ccb794dbd69"
      },
      "execution_count": null,
      "outputs": [
        {
          "output_type": "execute_result",
          "data": {
            "text/plain": [
              "Diabetes_binary         0\n",
              "HighBP                  0\n",
              "HighChol                0\n",
              "CholCheck               0\n",
              "BMI                     0\n",
              "Smoker                  0\n",
              "Stroke                  0\n",
              "HeartDiseaseorAttack    0\n",
              "PhysActivity            0\n",
              "Fruits                  0\n",
              "Veggies                 0\n",
              "HvyAlcoholConsump       0\n",
              "AnyHealthcare           0\n",
              "NoDocbcCost             0\n",
              "GenHlth                 0\n",
              "MentHlth                0\n",
              "PhysHlth                0\n",
              "DiffWalk                0\n",
              "Sex                     0\n",
              "Age                     0\n",
              "dtype: int64"
            ]
          },
          "metadata": {},
          "execution_count": 19
        }
      ]
    },
    {
      "cell_type": "markdown",
      "source": [
        "* As we can see there is not null values"
      ],
      "metadata": {
        "id": "Htka7SRoibEx"
      }
    },
    {
      "cell_type": "markdown",
      "source": [
        "### check for duplicated values"
      ],
      "metadata": {
        "id": "fnCgAi5ridio"
      }
    },
    {
      "cell_type": "code",
      "source": [
        "data.duplicated().sum()"
      ],
      "metadata": {
        "colab": {
          "base_uri": "https://localhost:8080/"
        },
        "id": "VzfVmDEuibct",
        "outputId": "aee8b8fd-b926-48e6-f8b9-3a15009b1866"
      },
      "execution_count": null,
      "outputs": [
        {
          "output_type": "execute_result",
          "data": {
            "text/plain": [
              "60142"
            ]
          },
          "metadata": {},
          "execution_count": 20
        }
      ]
    },
    {
      "cell_type": "code",
      "source": [
        "#drop duplicated values\n",
        "data.drop_duplicates(inplace=True) \n",
        "data_analysis.drop_duplicates(inplace=True) "
      ],
      "metadata": {
        "id": "-mODJfnjkfT0"
      },
      "execution_count": null,
      "outputs": []
    },
    {
      "cell_type": "code",
      "source": [
        "data.duplicated().sum() # check"
      ],
      "metadata": {
        "colab": {
          "base_uri": "https://localhost:8080/"
        },
        "id": "EmqLqoedkhO3",
        "outputId": "210ab48d-6b44-4be8-cab8-01d1b06d5d2b"
      },
      "execution_count": null,
      "outputs": [
        {
          "output_type": "execute_result",
          "data": {
            "text/plain": [
              "0"
            ]
          },
          "metadata": {},
          "execution_count": 22
        }
      ]
    },
    {
      "cell_type": "code",
      "source": [
        "data_analysis.duplicated().sum() # check"
      ],
      "metadata": {
        "colab": {
          "base_uri": "https://localhost:8080/"
        },
        "id": "01mm6pwl46cs",
        "outputId": "711a9232-6ce7-48aa-d38b-57aa058efb87"
      },
      "execution_count": null,
      "outputs": [
        {
          "output_type": "execute_result",
          "data": {
            "text/plain": [
              "0"
            ]
          },
          "metadata": {},
          "execution_count": 34
        }
      ]
    },
    {
      "cell_type": "markdown",
      "source": [
        "* there is no duplicated"
      ],
      "metadata": {
        "id": "GD3VWaCPigbw"
      }
    },
    {
      "cell_type": "code",
      "source": [
        "data.shape #dataset shape after cleaning"
      ],
      "metadata": {
        "colab": {
          "base_uri": "https://localhost:8080/"
        },
        "id": "j4bj_fTVku4N",
        "outputId": "c984a919-3b7a-4e44-cbb8-c046c28abc09"
      },
      "execution_count": null,
      "outputs": [
        {
          "output_type": "execute_result",
          "data": {
            "text/plain": [
              "(193538, 20)"
            ]
          },
          "metadata": {},
          "execution_count": 23
        }
      ]
    },
    {
      "cell_type": "markdown",
      "source": [
        "## **DATA VISUALIZATION📈**"
      ],
      "metadata": {
        "id": "ZnCeOWEsiiYi"
      }
    },
    {
      "cell_type": "markdown",
      "source": [
        "### Diabetes Distrebution"
      ],
      "metadata": {
        "id": "p4fc12fKaMkI"
      }
    },
    {
      "cell_type": "code",
      "source": [
        "Diabetes_binary = data_analysis['Diabetes_binary'].value_counts()\n",
        "explode = (0, 0.2) #explode to stand out slice\n",
        "ax = Diabetes_binary.plot(kind='pie', autopct = '%1.1f%%', legend=True, explode=explode, colors = ['darkred', 'green'], #autopct: to set the percentage \n",
        "                     figsize=(8,5), fontsize=15, shadow=True, wedgeprops={'edgecolor': 'black'})\n",
        "ax.legend(labels=['Diabetes', 'NO Diabetes'])\n",
        "ax.set_title(\"Diabetes_binary\", fontsize=20)\n",
        "# plt.savefig('Diabetes_binary.png')\n",
        "plt.show()"
      ],
      "metadata": {
        "colab": {
          "base_uri": "https://localhost:8080/",
          "height": 336
        },
        "id": "Q2Ezqvn9kmx1",
        "outputId": "6a282a5d-32e9-44f9-a948-488c5c4337fd"
      },
      "execution_count": null,
      "outputs": [
        {
          "output_type": "display_data",
          "data": {
            "text/plain": [
              "<Figure size 576x360 with 1 Axes>"
            ],
            "image/png": "[encoded data removed]"
          },
          "metadata": {}
        }
      ]
    },
    {
      "cell_type": "markdown",
      "source": [
        "*  Distribution of the Diabetes_binary"
      ],
      "metadata": {
        "id": "pgBsg4S7wVx1"
      }
    },
    {
      "cell_type": "code",
      "source": [
        "plt.figure(figsize=(7,6)) #set figure size\n",
        "ax = sns.countplot(data=data_analysis, x=\"Diabetes_binary\", order = data_analysis['Diabetes_binary'].value_counts().index, palette=['darkred', 'green'])\n",
        "\n",
        "labels = [item.get_text() for item in ax.get_xticklabels()]\n",
        "labels[0] = 'Diabetes'\n",
        "labels[1] = 'NO Diabetes'\n",
        "ax.set_xticklabels(labels)\n",
        "\n",
        "for p in ax.patches:\n",
        "    ax.annotate('{:.0f}'.format(p.get_height()),(p.get_x()+p.get_width()/2, p.get_height()), ha='center', va='bottom', color = \"black\", size=12)\n",
        "plt.title('Diabetes_binary dist.', fontsize=20)\n",
        "plt.show()"
      ],
      "metadata": {
        "colab": {
          "base_uri": "https://localhost:8080/",
          "height": 410
        },
        "id": "vdxjL2Oz0xow",
        "outputId": "8fa895c2-a081-4e5e-a5f3-ecf24d2d6ba4"
      },
      "execution_count": null,
      "outputs": [
        {
          "output_type": "display_data",
          "data": {
            "text/plain": [
              "<Figure size 504x432 with 1 Axes>"
            ],
            "image/png": "[encoded data removed]"
          },
          "metadata": {
            "needs_background": "light"
          }
        }
      ]
    },
    {
      "cell_type": "markdown",
      "source": [
        "* Number of Diabetes_binary column"
      ],
      "metadata": {
        "id": "-gwGap4kv1k_"
      }
    },
    {
      "cell_type": "markdown",
      "source": [
        "### Gender "
      ],
      "metadata": {
        "id": "Sxg0shWsaUzP"
      }
    },
    {
      "cell_type": "code",
      "source": [
        "plt.figure(figsize=(7,6)) #set figure size\n",
        "ax = sns.countplot(data=data_analysis, x=\"Sex\", order = data_analysis['Sex'].value_counts().index, palette=['#FFC0CB', '#0000FF'])\n",
        "\n",
        "labels = [item.get_text() for item in ax.get_xticklabels()]\n",
        "labels[0] = 'Female'\n",
        "labels[1] = 'Male'\n",
        "ax.set_xticklabels(labels)\n",
        "\n",
        "for p in ax.patches:\n",
        "    ax.annotate('{:.0f}'.format(p.get_height()),(p.get_x()+p.get_width()/2, p.get_height()), ha='center', va='bottom', color = \"black\", size=12)\n",
        "plt.title('Sex dist.', fontsize=20)\n",
        "plt.show()"
      ],
      "metadata": {
        "colab": {
          "base_uri": "https://localhost:8080/",
          "height": 409
        },
        "id": "yxB-0oAhkzxM",
        "outputId": "66d9864d-c2dd-47ba-d2fb-e6f2a0eecbc8"
      },
      "execution_count": null,
      "outputs": [
        {
          "output_type": "display_data",
          "data": {
            "text/plain": [
              "<Figure size 504x432 with 1 Axes>"
            ],
            "image/png": "[encoded data removed]"
          },
          "metadata": {
            "needs_background": "light"
          }
        }
      ]
    },
    {
      "cell_type": "markdown",
      "source": [
        "* Number of each gender in the dataset"
      ],
      "metadata": {
        "id": "Sdq_VsF0wD3N"
      }
    },
    {
      "cell_type": "code",
      "source": [
        "plt.figure(figsize=(15,7))\n",
        "ax = sns.countplot(data=data_analysis, x='Sex', hue='Diabetes_binary', palette=['green', 'darkred'])\n",
        "plt.title('Sex dist. with Diabetes', fontsize=20) #set figure title\n",
        "\n",
        "labels = [item.get_text() for item in ax.get_xticklabels()]\n",
        "labels[0] = 'Female'\n",
        "labels[1] = 'Male'\n",
        "ax.set_xticklabels(labels)\n",
        "\n",
        "plt.legend(title='Diabetes_binary', labels=['NO Diabetes', 'Diabetes'])\n",
        "\n",
        "for p in ax.patches:\n",
        "    ax.annotate('{:.0f}'.format(p.get_height()),(p.get_x()+p.get_width()/2, p.get_height()), ha='center', va='bottom', color = \"black\", size=12)\n",
        "\n",
        "plt.show()"
      ],
      "metadata": {
        "colab": {
          "base_uri": "https://localhost:8080/",
          "height": 463
        },
        "id": "OU1QOYiQk_xQ",
        "outputId": "196c30f9-df42-4ce7-a462-7f2bab8129c5"
      },
      "execution_count": null,
      "outputs": [
        {
          "output_type": "display_data",
          "data": {
            "text/plain": [
              "<Figure size 1080x504 with 1 Axes>"
            ],
            "image/png": "[encoded data removed]"
          },
          "metadata": {
            "needs_background": "light"
          }
        }
      ]
    },
    {
      "cell_type": "markdown",
      "source": [
        "* as we can see from the figure above female has more dibetes than male"
      ],
      "metadata": {
        "id": "HJT5FBkxQrwq"
      }
    },
    {
      "cell_type": "markdown",
      "source": [
        "### Age Distribution"
      ],
      "metadata": {
        "id": "Vvl7CvQbaZG4"
      }
    },
    {
      "cell_type": "code",
      "source": [
        "plt.figure(figsize=(15,5))\n",
        "ax = sns.countplot(data_analysis['Age'], x='Age', palette='Paired')\n",
        "labels = [item.get_text() for item in ax.get_xticklabels()]\n",
        "labels[0] = '18-24'\n",
        "labels[1] = '25-29'\n",
        "labels[2] = '30-34'\n",
        "labels[3] = '35-39'\n",
        "labels[4] = '40-44'\n",
        "labels[5] = '45-49'\n",
        "labels[6] = '50-54'\n",
        "labels[7] = '55-59'\n",
        "labels[8] = '60-64'\n",
        "labels[9] = '65-69'\n",
        "labels[10] = '70-74'\n",
        "labels[11] = '75-79'\n",
        "labels[12] = '80 or older'\n",
        "ax.set_xticklabels(labels)\n",
        "plt.title('Age dist.', fontsize=20) #set figure title\n",
        "plt.show()"
      ],
      "metadata": {
        "colab": {
          "base_uri": "https://localhost:8080/",
          "height": 355
        },
        "id": "6GgueCo9lIeI",
        "outputId": "c2c48184-20d4-40a0-d202-db4b60f52f70"
      },
      "execution_count": null,
      "outputs": [
        {
          "output_type": "display_data",
          "data": {
            "text/plain": [
              "<Figure size 1080x360 with 1 Axes>"
            ],
            "image/png": "[encoded data removed]"
          },
          "metadata": {
            "needs_background": "light"
          }
        }
      ]
    },
    {
      "cell_type": "markdown",
      "source": [
        "* 1 = 18-24 <br> 2 = 25-29 <br>3 = 30-34 <br>4 = 35-39 <br>5 = 40-44 <br>6 = 45-49 <br>7 = 50-54 <br>8 = 55-59 <br> 9 = 60-64 <br>10 = 65-69 <br>11 = 70-74 <br>12 = 75-79 <br> 13 = 80 or older"
      ],
      "metadata": {
        "id": "xoNWcDM53N-_"
      }
    },
    {
      "cell_type": "code",
      "source": [
        "plt.figure(figsize=(15,5))\n",
        "ax = sns.countplot(data=data_analysis, x='Age', hue='Diabetes_binary', palette=['green', 'darkred'])\n",
        "plt.legend(title='Diabetes_binary', labels=['NO Diabetes', 'Diabetes'])\n",
        "labels = [item.get_text() for item in ax.get_xticklabels()]\n",
        "labels[0] = '18-24'\n",
        "labels[1] = '25-29'\n",
        "labels[2] = '30-34'\n",
        "labels[3] = '35-39'\n",
        "labels[4] = '40-44'\n",
        "labels[5] = '45-49'\n",
        "labels[6] = '50-54'\n",
        "labels[7] = '55-59'\n",
        "labels[8] = '60-64'\n",
        "labels[9] = '65-69'\n",
        "labels[10] = '70-74'\n",
        "labels[11] = '75-79'\n",
        "labels[12] = '80 or older'\n",
        "ax.set_xticklabels(labels)\n",
        "plt.title('Age dist. with Diabetes', fontsize=20) #set figure title\n",
        "plt.show()"
      ],
      "metadata": {
        "colab": {
          "base_uri": "https://localhost:8080/",
          "height": 355
        },
        "id": "MluQLHRJlX4J",
        "outputId": "281a5487-2356-4963-cc10-6332467b82d1"
      },
      "execution_count": null,
      "outputs": [
        {
          "output_type": "display_data",
          "data": {
            "text/plain": [
              "<Figure size 1080x360 with 1 Axes>"
            ],
            "image/png": "[encoded data removed]"
          },
          "metadata": {
            "needs_background": "light"
          }
        }
      ]
    },
    {
      "cell_type": "markdown",
      "source": [
        "* most of people from 18 to 45 have no dibetes\n",
        "* most of people from 55 and older have dibetes"
      ],
      "metadata": {
        "id": "VOqA8lenwnE_"
      }
    },
    {
      "cell_type": "markdown",
      "source": [
        "### Smoker Feature"
      ],
      "metadata": {
        "id": "l9EG5McKajy-"
      }
    },
    {
      "cell_type": "code",
      "source": [
        "plt.figure(figsize=(20,7))\n",
        "ax = sns.countplot(data=data_analysis, x='Smoker', hue='Diabetes_binary', palette=['green', 'darkred'])\n",
        "\n",
        "labels = [item.get_text() for item in ax.get_xticklabels()]\n",
        "labels[0] = 'No'\n",
        "labels[1] = 'Yes'\n",
        "ax.set_xticklabels(labels)\n",
        "\n",
        "for p in ax.patches:\n",
        "    ax.annotate('{:.0f}'.format(p.get_height()),(p.get_x()+p.get_width()/2, p.get_height()), ha='center', va='bottom', color = \"black\", size=12)\n",
        "\n",
        "plt.legend(title='Diabetes_binary', labels=['NO Diabetes', 'Diabetes'])\n",
        "plt.title('Have you smoked at least 100 cigarettes in your entire life?', fontsize=20) #set figure title\n",
        "plt.show()"
      ],
      "metadata": {
        "colab": {
          "base_uri": "https://localhost:8080/",
          "height": 463
        },
        "id": "8XKFrhib4yUU",
        "outputId": "423085f5-e620-4532-e2fc-b1a5eb753f7f"
      },
      "execution_count": null,
      "outputs": [
        {
          "output_type": "display_data",
          "data": {
            "text/plain": [
              "<Figure size 1440x504 with 1 Axes>"
            ],
            "image/png": "[encoded data removed]"
          },
          "metadata": {
            "needs_background": "light"
          }
        }
      ]
    },
    {
      "cell_type": "markdown",
      "source": [
        "* people how said that theu smoked at least 100 cigerettes in thier entire life have diabetes"
      ],
      "metadata": {
        "id": "7wIw9aMpxH8n"
      }
    },
    {
      "cell_type": "markdown",
      "source": [
        "### HvyAlcoholConsump Feature"
      ],
      "metadata": {
        "id": "BrFlJ3WuaxiT"
      }
    },
    {
      "cell_type": "code",
      "source": [
        "plt.figure(figsize=(15,7))\n",
        "ax = sns.countplot(data=data_analysis, x='HvyAlcoholConsump', hue='Diabetes_binary', palette=['green', 'darkred'])\n",
        "\n",
        "labels = [item.get_text() for item in ax.get_xticklabels()]\n",
        "labels[0] = 'No'\n",
        "labels[1] = 'Yes'\n",
        "ax.set_xticklabels(labels)\n",
        "\n",
        "for p in ax.patches:\n",
        "    ax.annotate('{:.0f}'.format(p.get_height()),(p.get_x()+p.get_width()/2, p.get_height()), ha='center', va='bottom', color = \"black\", size=12)\n",
        "\n",
        "plt.legend(title='Diabetes_binary', labels=['NO Diabetes', 'Diabetes'])\n",
        "plt.title('Heavy drinkers (adult men having more than 14 drinks per week and adult women having more than 7 drinks per week)', fontsize=20) #set figure title\n",
        "plt.show()"
      ],
      "metadata": {
        "colab": {
          "base_uri": "https://localhost:8080/",
          "height": 463
        },
        "id": "U9RqC3bY5EKL",
        "outputId": "ba6f6ab1-f73e-4787-8759-391868cf797b"
      },
      "execution_count": null,
      "outputs": [
        {
          "output_type": "display_data",
          "data": {
            "text/plain": [
              "<Figure size 1080x504 with 1 Axes>"
            ],
            "image/png": "[encoded data removed]"
          },
          "metadata": {
            "needs_background": "light"
          }
        }
      ]
    },
    {
      "cell_type": "markdown",
      "source": [
        "### AnyHealthcare Feature"
      ],
      "metadata": {
        "id": "o5i_DDnAa0F9"
      }
    },
    {
      "cell_type": "code",
      "source": [
        "plt.figure(figsize=(15,7))\n",
        "ax = sns.countplot(data=data_analysis, x='AnyHealthcare', hue='Diabetes_binary', palette=['green', 'darkred'])\n",
        "\n",
        "labels = [item.get_text() for item in ax.get_xticklabels()]\n",
        "labels[0] = 'No'\n",
        "labels[1] = 'Yes'\n",
        "ax.set_xticklabels(labels)\n",
        "\n",
        "for p in ax.patches:\n",
        "    ax.annotate('{:.0f}'.format(p.get_height()),(p.get_x()+p.get_width()/2, p.get_height()), ha='center', va='bottom', color = \"black\", size=12)\n",
        "\n",
        "plt.legend(title='Diabetes_binary', labels=['NO Diabetes', 'Diabetes'])\n",
        "plt.title('Have any kind of health care coverage, including health insurance', fontsize=20) #set figure title\n",
        "plt.show()"
      ],
      "metadata": {
        "colab": {
          "base_uri": "https://localhost:8080/",
          "height": 463
        },
        "id": "FOTgBBJt5LUB",
        "outputId": "fb4db65e-a2b4-4824-bb9d-731b0455933e"
      },
      "execution_count": null,
      "outputs": [
        {
          "output_type": "display_data",
          "data": {
            "text/plain": [
              "<Figure size 1080x504 with 1 Axes>"
            ],
            "image/png": "[encoded data removed]"
          },
          "metadata": {
            "needs_background": "light"
          }
        }
      ]
    },
    {
      "cell_type": "markdown",
      "source": [
        "### HighBP Feature"
      ],
      "metadata": {
        "id": "YWdRwk6ca3fG"
      }
    },
    {
      "cell_type": "code",
      "source": [
        "plt.figure(figsize=(15,7))\n",
        "ax = sns.countplot(data=data_analysis, x='HighBP', hue='Diabetes_binary', palette=['green', 'darkred'])\n",
        "\n",
        "labels = [item.get_text() for item in ax.get_xticklabels()]\n",
        "labels[0] = 'No'\n",
        "labels[1] = 'Yes'\n",
        "ax.set_xticklabels(labels)\n",
        "\n",
        "for p in ax.patches:\n",
        "    ax.annotate('{:.0f}'.format(p.get_height()),(p.get_x()+p.get_width()/2, p.get_height()), ha='center', va='bottom', color = \"black\", size=12)\n",
        "\n",
        "plt.legend(title='Diabetes_binary', labels=['NO Diabetes', 'Diabetes'])\n",
        "plt.title('High blood pressure?', fontsize=20) #set figure title\n",
        "plt.show()"
      ],
      "metadata": {
        "colab": {
          "base_uri": "https://localhost:8080/",
          "height": 463
        },
        "id": "8F1eigbD5fAH",
        "outputId": "98599daf-ee58-4446-f6c4-64864a355152"
      },
      "execution_count": null,
      "outputs": [
        {
          "output_type": "display_data",
          "data": {
            "text/plain": [
              "<Figure size 1080x504 with 1 Axes>"
            ],
            "image/png": "[encoded data removed]"
          },
          "metadata": {
            "needs_background": "light"
          }
        }
      ]
    },
    {
      "cell_type": "markdown",
      "source": [
        "### GenHlth"
      ],
      "metadata": {
        "id": "y3Aj90dXtYIq"
      }
    },
    {
      "cell_type": "code",
      "source": [
        "plt.figure(figsize=(15,7))\n",
        "ax = sns.countplot(data=data_analysis, x='GenHlth', hue='Diabetes_binary', palette=['green', 'darkred'])\n",
        "\n",
        "labels = [item.get_text() for item in ax.get_xticklabels()]\n",
        "labels[0] = 'excellent'\n",
        "labels[1] = 'very good'\n",
        "labels[2] = 'good'\n",
        "labels[3] = 'fair'\n",
        "labels[4] = 'poor'\n",
        "ax.set_xticklabels(labels)\n",
        "\n",
        "for p in ax.patches:\n",
        "    ax.annotate('{:.0f}'.format(p.get_height()),(p.get_x()+p.get_width()/2, p.get_height()), ha='center', va='bottom', color = \"black\", size=12)\n",
        "\n",
        "plt.legend(title='Diabetes_binary', labels=['NO Diabetes', 'Diabetes'])\n",
        "plt.title('Would you say that in general your health is: excellent, very good, good, fair, poor', fontsize=20) #set figure title\n",
        "plt.show()"
      ],
      "metadata": {
        "colab": {
          "base_uri": "https://localhost:8080/",
          "height": 463
        },
        "id": "yDt5DYPFtYQe",
        "outputId": "99024262-e4d4-4d0b-90f7-abe5d71646d7"
      },
      "execution_count": null,
      "outputs": [
        {
          "output_type": "display_data",
          "data": {
            "text/plain": [
              "<Figure size 1080x504 with 1 Axes>"
            ],
            "image/png": "[encoded data removed]"
          },
          "metadata": {
            "needs_background": "light"
          }
        }
      ]
    },
    {
      "cell_type": "markdown",
      "source": [
        "### DiffWalk"
      ],
      "metadata": {
        "id": "RsABO_jYuZ5C"
      }
    },
    {
      "cell_type": "code",
      "source": [
        "plt.figure(figsize=(15,7))\n",
        "ax = sns.countplot(data=data_analysis, x='DiffWalk', hue='Diabetes_binary', palette=['green', 'darkred'])\n",
        "\n",
        "labels = [item.get_text() for item in ax.get_xticklabels()]\n",
        "labels[0] = 'NO'\n",
        "labels[1] = 'Yes'\n",
        "ax.set_xticklabels(labels)\n",
        "\n",
        "for p in ax.patches:\n",
        "    ax.annotate('{:.0f}'.format(p.get_height()),(p.get_x()+p.get_width()/2, p.get_height()), ha='center', va='bottom', color = \"black\", size=12)\n",
        "\n",
        "plt.legend(title='Diabetes_binary', labels=['NO Diabetes', 'Diabetes'])\n",
        "plt.title('Do you have serious difficulty walking or climbing stairs?', fontsize=20) #set figure title\n",
        "plt.show()"
      ],
      "metadata": {
        "colab": {
          "base_uri": "https://localhost:8080/",
          "height": 463
        },
        "id": "9HusH5qQuZ_t",
        "outputId": "b04551a3-ad12-462d-b4cb-cedc39bcc013"
      },
      "execution_count": null,
      "outputs": [
        {
          "output_type": "display_data",
          "data": {
            "text/plain": [
              "<Figure size 1080x504 with 1 Axes>"
            ],
            "image/png": "[encoded data removed]"
          },
          "metadata": {
            "needs_background": "light"
          }
        }
      ]
    },
    {
      "cell_type": "markdown",
      "source": [
        "### HighChol"
      ],
      "metadata": {
        "id": "tgPQG8LbwiUJ"
      }
    },
    {
      "cell_type": "code",
      "source": [
        "plt.figure(figsize=(15,7))\n",
        "ax = sns.countplot(data=data_analysis, x='HighChol', hue='Diabetes_binary', palette=['green', 'darkred'])\n",
        "\n",
        "labels = [item.get_text() for item in ax.get_xticklabels()]\n",
        "labels[0] = 'NO'\n",
        "labels[1] = 'Yes'\n",
        "ax.set_xticklabels(labels)\n",
        "\n",
        "for p in ax.patches:\n",
        "    ax.annotate('{:.0f}'.format(p.get_height()),(p.get_x()+p.get_width()/2, p.get_height()), ha='center', va='bottom', color = \"black\", size=12)\n",
        "\n",
        "plt.legend(title='Diabetes_binary', labels=['NO Diabetes', 'Diabetes'])\n",
        "plt.title('DO you have high cholesterol?', fontsize=20) #set figure title\n",
        "plt.show()"
      ],
      "metadata": {
        "colab": {
          "base_uri": "https://localhost:8080/",
          "height": 463
        },
        "id": "Vczczp_Uwiav",
        "outputId": "d78d6ca5-dac4-417d-f116-79a395467fe5"
      },
      "execution_count": null,
      "outputs": [
        {
          "output_type": "display_data",
          "data": {
            "text/plain": [
              "<Figure size 1080x504 with 1 Axes>"
            ],
            "image/png": "[encoded data removed]"
          },
          "metadata": {
            "needs_background": "light"
          }
        }
      ]
    },
    {
      "cell_type": "markdown",
      "source": [
        "## **DATA PREPROCESSING⚙️**"
      ],
      "metadata": {
        "id": "aDCZVkJKYEtU"
      }
    },
    {
      "cell_type": "markdown",
      "source": [
        "### Feature selection"
      ],
      "metadata": {
        "id": "1z0xqFznEcZA"
      }
    },
    {
      "cell_type": "code",
      "source": [
        "data.drop('Diabetes_binary', axis=1).corrwith(data.Diabetes_binary).plot(kind='bar', grid=True, figsize=(30, 8), title=\"Correlation with Diabetes_binary\", color=\"blue\")\n",
        "plt.xticks(rotation=30)\n",
        "plt.show()"
      ],
      "metadata": {
        "colab": {
          "base_uri": "https://localhost:8080/",
          "height": 552
        },
        "id": "RNZbJwDGOSyD",
        "outputId": "92800d76-912f-4b7e-cbb7-208464e91f76"
      },
      "execution_count": null,
      "outputs": [
        {
          "output_type": "display_data",
          "data": {
            "text/plain": [
              "<Figure size 2160x576 with 1 Axes>"
            ],
            "image/png": "[encoded data removed]"
          },
          "metadata": {
            "needs_background": "light"
          }
        }
      ]
    },
    {
      "cell_type": "code",
      "source": [
        "columns = [\"CholCheck\", \"Smoker\" , \"Stroke\", \"PhysActivity\" , \"Fruits\" , \"Veggies\" , \"HvyAlcoholConsump\" , \"AnyHealthcare\", \"NoDocbcCost\", \"MentHlth\", \"Sex\"]\n",
        "data.drop(columns , axis=1 ,inplace=True)"
      ],
      "metadata": {
        "id": "VjvzU3ykOsE3"
      },
      "execution_count": null,
      "outputs": []
    },
    {
      "cell_type": "markdown",
      "source": [
        " ### Set features and target columns"
      ],
      "metadata": {
        "id": "VmLN4kLAlyel"
      }
    },
    {
      "cell_type": "code",
      "source": [
        "x = data.iloc[:,data.columns != 'Diabetes_binary'] #take the features which is from column index 1 to the last column\n",
        "y = data['Diabetes_binary']"
      ],
      "metadata": {
        "id": "I3re8KDTly9l"
      },
      "execution_count": null,
      "outputs": []
    },
    {
      "cell_type": "markdown",
      "source": [
        "### SMOTEENN Technique to deal with imbalance classes\n",
        "* SMOTE is an oversampling technique where the synthetic samples are generated for the minority class. This algorithm helps to overcome the overfitting problem posed by random oversampling."
      ],
      "metadata": {
        "id": "rPw8hQ9xvfw0"
      }
    },
    {
      "cell_type": "code",
      "source": [
        "from imblearn.combine import SMOTEENN\n",
        "\n",
        "resampler = SMOTEENN(sampling_strategy='all', random_state=123, n_jobs=-1)\n",
        "resampler.fit(x,y)\n",
        "\n",
        "x, y = resampler.fit_resample(x,y) # Resample the dataset"
      ],
      "metadata": {
        "id": "WiN0dbAhvf2y"
      },
      "execution_count": null,
      "outputs": []
    },
    {
      "cell_type": "markdown",
      "source": [
        " ### Split the dataset for training and testing"
      ],
      "metadata": {
        "id": "wO-VaaMtmJCn"
      }
    },
    {
      "cell_type": "code",
      "source": [
        "from sklearn.model_selection import train_test_split\n",
        "x_train, x_test, y_train, y_test = train_test_split(x, y, test_size=0.15, random_state=0) #random_state=0 to get the same train and test sets across different executions"
      ],
      "metadata": {
        "id": "xzn9nQ8EmIPw"
      },
      "execution_count": null,
      "outputs": []
    },
    {
      "cell_type": "markdown",
      "source": [
        "## **MODEL BUILDING🧱**"
      ],
      "metadata": {
        "id": "Qo5u0A7zmQia"
      }
    },
    {
      "cell_type": "markdown",
      "source": [
        "### 1. Model One: Decision Tree Classification Algorithm🌳"
      ],
      "metadata": {
        "id": "icgWIWkomSYR"
      }
    },
    {
      "cell_type": "code",
      "source": [
        "from sklearn.tree import DecisionTreeClassifier\n",
        "from sklearn.metrics import mean_squared_error\n",
        "import math\n",
        "\n",
        "tree = DecisionTreeClassifier() #create object\n",
        "tree.fit(x_train, y_train) #train the object\n",
        "\n",
        "print('Training set score of Decision Tree Classifier: {:.2f}%'.format(tree.score(x_train, y_train)*100))\n",
        "print('Testing set score of Decision Tree Classifier: {:.2f}%'.format(tree.score(x_test, y_test)*100))\n",
        "\n",
        "tree_pred = tree.predict(x_test) #predict for the unlabeled data\n",
        "mse = mean_squared_error(y_test, tree_pred)\n",
        "rmse = math.sqrt(mean_squared_error(y_test, tree_pred))\n",
        "\n",
        "print('Mean Squared Error for Decision Tree Classifier: {:.2f}'.format(mse))\n",
        "print('Root Mean Squared Error for Decision Tree Classifier: {:.2f}'.format(rmse))"
      ],
      "metadata": {
        "colab": {
          "base_uri": "https://localhost:8080/"
        },
        "id": "Q0svsd0rmQ-y",
        "outputId": "77ef25bf-5422-4776-bb20-eb7dde7adce3"
      },
      "execution_count": null,
      "outputs": [
        {
          "output_type": "stream",
          "name": "stdout",
          "text": [
            "Training set score of Decision Tree Classifier: 100.00%\n",
            "Testing set score of Decision Tree Classifier: 96.88%\n",
            "Mean Squared Error for Decision Tree Classifier: 0.03\n",
            "Root Mean Squared Error for Decision Tree Classifier: 0.18\n"
          ]
        }
      ]
    },
    {
      "cell_type": "code",
      "source": [
        "from sklearn.metrics import plot_confusion_matrix\n",
        "fig, ax = plt.subplots(figsize=(10,10))\n",
        "plot_confusion_matrix(tree, x_test, y_test, cmap='Greys', display_labels=['NO Diabetes','Diabetes'], ax=ax)\n",
        "plt.title('Confusion Matrix for Decision Tree Classifier', fontsize=20)\n",
        "plt.show()"
      ],
      "metadata": {
        "colab": {
          "base_uri": "https://localhost:8080/",
          "height": 574
        },
        "id": "aZFIBVdhm9d9",
        "outputId": "116bc0bc-316c-45e9-8294-93b534be13bc"
      },
      "execution_count": null,
      "outputs": [
        {
          "output_type": "display_data",
          "data": {
            "text/plain": [
              "<Figure size 720x720 with 2 Axes>"
            ],
            "image/png": "[encoded data removed]"
          },
          "metadata": {
            "needs_background": "light"
          }
        }
      ]
    },
    {
      "cell_type": "code",
      "source": [
        "y_test.value_counts()"
      ],
      "metadata": {
        "colab": {
          "base_uri": "https://localhost:8080/"
        },
        "id": "wYzQ4oDHfmPu",
        "outputId": "76069008-5900-49e6-b992-61529c309c3f"
      },
      "execution_count": null,
      "outputs": [
        {
          "output_type": "execute_result",
          "data": {
            "text/plain": [
              "0.0    15731\n",
              "1.0    10158\n",
              "Name: Diabetes_binary, dtype: int64"
            ]
          },
          "metadata": {},
          "execution_count": 61
        }
      ]
    },
    {
      "cell_type": "markdown",
      "source": [
        "### 2. Model two: Logistic Regression Algorithm"
      ],
      "metadata": {
        "id": "fuQdKeCvm6tH"
      }
    },
    {
      "cell_type": "code",
      "source": [
        "from sklearn.linear_model import LogisticRegression\n",
        "\n",
        "regression = LogisticRegression()\n",
        "regression.fit(x_train, y_train) #train the object\n",
        "\n",
        "print('Training set score of Logistic Regression: {:.2f}%'.format(regression.score(x_train, y_train)*100))\n",
        "print('Testing set score of Logistic Regression: {:.2f}%'.format(regression.score(x_test, y_test)*100))\n",
        "\n",
        "regression_pred = regression.predict(x_test) #predict for the unlabeled data\n",
        "mse = mean_squared_error(y_test, regression_pred)\n",
        "rmse = math.sqrt(mean_squared_error(y_test, regression_pred))\n",
        "\n",
        "print('Mean Squared Error for Logistic Regression: {:.2f}'.format(mse))\n",
        "print('Root Mean Squared Error for Logistic Regression: {:.2f}'.format(rmse))"
      ],
      "metadata": {
        "colab": {
          "base_uri": "https://localhost:8080/"
        },
        "id": "P-TUQJaJm5BP",
        "outputId": "2cce9135-380c-42ae-b62e-4360873fc238"
      },
      "execution_count": null,
      "outputs": [
        {
          "output_type": "stream",
          "name": "stdout",
          "text": [
            "Training set score of Logistic Regression: 86.01%\n",
            "Testing set score of Logistic Regression: 85.77%\n",
            "Mean Squared Error for Logistic Regression: 0.14\n",
            "Root Mean Squared Error for Logistic Regression: 0.38\n"
          ]
        }
      ]
    },
    {
      "cell_type": "code",
      "source": [
        "fig, ax = plt.subplots(figsize=(10,10))\n",
        "plot_confusion_matrix(regression, x_test, y_test, cmap='Greys', display_labels=['NO Diabetes','Diabetes'], ax=ax)\n",
        "plt.title('Confusion Matrix for Logistic Regression', fontsize=20)\n",
        "plt.show()"
      ],
      "metadata": {
        "colab": {
          "base_uri": "https://localhost:8080/",
          "height": 574
        },
        "id": "39hfjNlYnFbX",
        "outputId": "394778ca-cff2-4006-c3e3-3a229421a946"
      },
      "execution_count": null,
      "outputs": [
        {
          "output_type": "display_data",
          "data": {
            "text/plain": [
              "<Figure size 720x720 with 2 Axes>"
            ],
            "image/png": "[encoded data removed]"
          },
          "metadata": {
            "needs_background": "light"
          }
        }
      ]
    },
    {
      "cell_type": "markdown",
      "source": [
        "### 3. Model Three: Random Forest Algorithm"
      ],
      "metadata": {
        "id": "MZIgGHvXnJ0g"
      }
    },
    {
      "cell_type": "code",
      "source": [
        "from sklearn.ensemble import RandomForestClassifier\n",
        "\n",
        "forest = RandomForestClassifier() #create object\n",
        "forest.fit(x_train, y_train) #train the object\n",
        "\n",
        "print('Training set score of Random Forest Classifier: {:.2f}%'.format(forest.score(x_train, y_train)*100))\n",
        "print('Testing set score of Random Forest Classifier: {:.2f}%'.format(forest.score(x_test, y_test)*100))\n",
        "\n",
        "forest_pred = forest.predict(x_test) #predict for the unlabeled data\n",
        "mse = mean_squared_error(y_test, forest_pred)\n",
        "rmse = math.sqrt(mean_squared_error(y_test, forest_pred))\n",
        "\n",
        "print('Mean Squared Error for Random Forest Classifier: {:.2f}'.format(mse))\n",
        "print('Root Mean Squared Error for Random Forest Classifier: {:.2f}'.format(rmse))"
      ],
      "metadata": {
        "colab": {
          "base_uri": "https://localhost:8080/"
        },
        "id": "7qnM9yWAnL5i",
        "outputId": "66fe8732-c958-4379-c00c-3920d7b3b479"
      },
      "execution_count": null,
      "outputs": [
        {
          "output_type": "stream",
          "name": "stdout",
          "text": [
            "Training set score of Random Forest Classifier: 100.00%\n",
            "Testing set score of Random Forest Classifier: 97.48%\n",
            "Mean Squared Error for Random Forest Classifier: 0.03\n",
            "Root Mean Squared Error for Random Forest Classifier: 0.16\n"
          ]
        }
      ]
    },
    {
      "cell_type": "code",
      "source": [
        "fig, ax = plt.subplots(figsize=(10,10))\n",
        "plot_confusion_matrix(forest, x_test, y_test, cmap='Greys', display_labels=['NO Diabetes','Diabetes'], ax=ax)\n",
        "plt.title('Confusion Matrix For Random Forest Classifier', fontsize=20)\n",
        "plt.show()"
      ],
      "metadata": {
        "id": "kJgJy6iJF_sT",
        "colab": {
          "base_uri": "https://localhost:8080/",
          "height": 574
        },
        "outputId": "b625e320-f15c-4e38-9d14-ac53ee01779d"
      },
      "execution_count": null,
      "outputs": [
        {
          "output_type": "display_data",
          "data": {
            "text/plain": [
              "<Figure size 720x720 with 2 Axes>"
            ],
            "image/png": "[encoded data removed]"
          },
          "metadata": {
            "needs_background": "light"
          }
        }
      ]
    },
    {
      "cell_type": "code",
      "source": [
        "# from sklearn.model_selection import GridSearchCV\n",
        "\n",
        "# rfc = RandomForestClassifier(random_state=42)\n",
        "\n",
        "# param_grid = { \n",
        "#     'n_estimators': [200, 500],\n",
        "#     'max_features': ['auto', 'sqrt', 'log2'],\n",
        "#     'max_depth' : [4,5,6,7,8],\n",
        "#     'criterion' :['gini', 'entropy']\n",
        "# }\n",
        "\n",
        "# CV_rfc = GridSearchCV(estimator=rfc, param_grid=param_grid, cv= 5)\n",
        "# CV_rfc.fit(x_train, y_train)"
      ],
      "metadata": {
        "id": "_DSABmZfnRZ9",
        "colab": {
          "base_uri": "https://localhost:8080/"
        },
        "outputId": "c03c1d3b-e2f5-484d-b495-285656a6b286"
      },
      "execution_count": null,
      "outputs": [
        {
          "output_type": "execute_result",
          "data": {
            "text/plain": [
              "GridSearchCV(cv=5, estimator=RandomForestClassifier(random_state=42),\n",
              "             param_grid={'criterion': ['gini', 'entropy'],\n",
              "                         'max_depth': [4, 5, 6, 7, 8],\n",
              "                         'max_features': ['auto', 'sqrt', 'log2'],\n",
              "                         'n_estimators': [200, 500]})"
            ]
          },
          "metadata": {},
          "execution_count": 25
        }
      ]
    },
    {
      "cell_type": "code",
      "source": [
        "# CV_rfc.best_params_"
      ],
      "metadata": {
        "colab": {
          "base_uri": "https://localhost:8080/"
        },
        "id": "p5FXQ6aHjOA5",
        "outputId": "50940b8c-edf9-4f70-c72e-7a0c5ddc9802"
      },
      "execution_count": null,
      "outputs": [
        {
          "output_type": "execute_result",
          "data": {
            "text/plain": [
              "{'criterion': 'entropy',\n",
              " 'max_depth': 8,\n",
              " 'max_features': 'auto',\n",
              " 'n_estimators': 500}"
            ]
          },
          "metadata": {},
          "execution_count": 26
        }
      ]
    },
    {
      "cell_type": "code",
      "source": [
        "# forest0 = RandomForestClassifier(criterion='entropy', max_depth=8, max_features='auto', n_estimators=500)\n",
        "# forest0.fit(x_train, y_train)\n",
        "\n",
        "# print('Training set score of Random Forest Classifier: {:.2f}%'.format(forest0.score(x_train, y_train)*100))\n",
        "# print('Test set score of Random Forest Classifier: {:.2f}%'.format(forest0.score(x_test, y_test)*100))\n",
        "\n",
        "# forest0_pred = forest0.predict(x_test) #predict for the unlabeled data\n",
        "# mse = mean_squared_error(y_test, forest0_pred)\n",
        "# rmse = math.sqrt(mean_squared_error(y_test, forest0_pred))\n",
        "\n",
        "# print('Mean Squared Error for Random Forest Classifier: {:.2f}'.format(mse))\n",
        "# print('Root Mean Squared Error for Random Forest Classifier: {:.2f}'.format(rmse))"
      ],
      "metadata": {
        "colab": {
          "base_uri": "https://localhost:8080/"
        },
        "id": "A-R7qrJSFp9y",
        "outputId": "d82c6191-059a-4a9d-9032-bdb2289b9181"
      },
      "execution_count": null,
      "outputs": [
        {
          "output_type": "stream",
          "name": "stdout",
          "text": [
            "Training set score of Random Forest Classifier: 91.86%\n",
            "Test set score of Random Forest Classifier: 91.66%\n",
            "Mean Squared Error for Random Forest Classifier: 0.08\n",
            "Root Mean Squared Error for Random Forest Classifier: 0.29\n"
          ]
        }
      ]
    },
    {
      "cell_type": "markdown",
      "source": [
        "### 4. Model Four: K-Nearest Neighbor(KNN) Algorithm"
      ],
      "metadata": {
        "id": "uCNoIWj_ly__"
      }
    },
    {
      "cell_type": "code",
      "source": [
        "from sklearn.neighbors import KNeighborsClassifier\n",
        "\n",
        "knn = KNeighborsClassifier()\n",
        "knn.fit(x_train, y_train)\n",
        "\n",
        "print('Training set score of K Neighbors Classifier: {:.2f}%'.format(knn.score(x_train, y_train)*100))\n",
        "print('Testing set score of K Neighbors Classifier: {:.2f}%'.format(knn.score(x_test, y_test)*100))\n",
        "\n",
        "knn_pred = knn.predict(x_test) #predict for the unlabeled data\n",
        "mse = mean_squared_error(y_test, knn_pred)\n",
        "rmse = math.sqrt(mean_squared_error(y_test, knn_pred))\n",
        "\n",
        "print('Mean Squared Error for K Neighbors Classifier: {:.2f}'.format(mse))\n",
        "print('Root Mean Squared Error for K Neighbors Classifier: {:.2f}'.format(rmse))"
      ],
      "metadata": {
        "id": "EVBbrq6HnkG7",
        "colab": {
          "base_uri": "https://localhost:8080/"
        },
        "outputId": "c4c7f560-31a7-41e1-ef8b-5a9333940530"
      },
      "execution_count": null,
      "outputs": [
        {
          "output_type": "stream",
          "name": "stdout",
          "text": [
            "Training set score of K Neighbors Classifier: 97.69%\n",
            "Testing set score of K Neighbors Classifier: 95.81%\n",
            "Mean Squared Error for K Neighbors Classifier: 0.04\n",
            "Root Mean Squared Error for K Neighbors Classifier: 0.20\n"
          ]
        }
      ]
    },
    {
      "cell_type": "code",
      "source": [
        "fig, ax = plt.subplots(figsize=(10,10))\n",
        "plot_confusion_matrix(knn, x_test, y_test, cmap='Greys', display_labels=['NO Diabetes','Diabetes'], ax=ax)\n",
        "plt.title('Confusion Matrix For K Neighbors Classifier', fontsize=20)\n",
        "plt.show()"
      ],
      "metadata": {
        "colab": {
          "base_uri": "https://localhost:8080/",
          "height": 574
        },
        "id": "xyY83QAvmj-a",
        "outputId": "f0405fc3-82a1-4cd4-ea0f-54ed58e3b33f"
      },
      "execution_count": null,
      "outputs": [
        {
          "output_type": "display_data",
          "data": {
            "text/plain": [
              "<Figure size 720x720 with 2 Axes>"
            ],
            "image/png": "[encoded data removed]"
          },
          "metadata": {
            "needs_background": "light"
          }
        }
      ]
    },
    {
      "cell_type": "code",
      "source": [
        "# from sklearn.model_selection import GridSearchCV\n",
        "\n",
        "# # List Hyperparameters that we want to tune.\n",
        "# leaf_size = list(range(1,10))\n",
        "# n_neighbors = list(range(1,10))\n",
        "# p=[1,2]\n",
        "\n",
        "# # Convert to dictionary\n",
        "# hyperparameters = dict(leaf_size=leaf_size, n_neighbors=n_neighbors, p=p)\n",
        "\n",
        "# # Create new KNN object\n",
        "# knn_2 = KNeighborsClassifier()\n",
        "\n",
        "# # Use GridSearch\n",
        "# clf = GridSearchCV(knn_2, hyperparameters, cv=10)\n",
        "\n",
        "# # Fit the model\n",
        "# best_model = clf.fit(x_train, y_train)\n",
        "\n",
        "# # Print The value of best Hyperparameters\n",
        "# print('Best leaf_size:', best_model.best_estimator_.get_params()['leaf_size'])\n",
        "# print('Best p:', best_model.best_estimator_.get_params()['p'])\n",
        "# print('Best n_neighbors:', best_model.best_estimator_.get_params()['n_neighbors'])"
      ],
      "metadata": {
        "colab": {
          "base_uri": "https://localhost:8080/"
        },
        "id": "HsiUhJ7pzZH3",
        "outputId": "3e8350c9-d151-495d-bb38-e9b5bf9760b6"
      },
      "execution_count": null,
      "outputs": [
        {
          "output_type": "stream",
          "name": "stdout",
          "text": [
            "Best leaf_size: 1\n",
            "Best p: 1\n",
            "Best n_neighbors: 9\n"
          ]
        }
      ]
    },
    {
      "cell_type": "code",
      "source": [
        "# knn0 = KNeighborsClassifier(leaf_size=1, p=1, n_neighbors=9)\n",
        "# knn0.fit(x_train, y_train)\n",
        "\n",
        "# print('Training set score of K Neighbors Classifier: {:.2f}%'.format(knn0.score(x_train, y_train)*100))\n",
        "# print('Test set score of K Neighbors Classifier: {:.2f}%'.format(knn0.score(x_test, y_test)*100))\n",
        "\n",
        "# knn0_pred = knn0.predict(x_test) #predict for the unlabeled data\n",
        "# mse = mean_squared_error(y_test, knn0_pred)\n",
        "# rmse = math.sqrt(mean_squared_error(y_test, knn0_pred))\n",
        "\n",
        "# print('Mean Squared Error for K Neighbors Classifier: {:.2f}'.format(mse))\n",
        "# print('Root Mean Squared Error for K Neighbors Classifier: {:.2f}'.format(rmse))"
      ],
      "metadata": {
        "colab": {
          "base_uri": "https://localhost:8080/"
        },
        "id": "X-y2pjI78isY",
        "outputId": "7cfca076-0970-47af-daa7-84a123954c85"
      },
      "execution_count": null,
      "outputs": [
        {
          "output_type": "stream",
          "name": "stdout",
          "text": [
            "Training set score of K Neighbors Classifier: 76.05%\n",
            "Test set score of K Neighbors Classifier: 72.11%\n",
            "Mean Squared Error for K Neighbors Classifier: 0.28\n",
            "Root Mean Squared Error for K Neighbors Classifier: 0.53\n"
          ]
        }
      ]
    },
    {
      "cell_type": "markdown",
      "source": [
        "### 5. Model Five: Naive Bayes Algorithm"
      ],
      "metadata": {
        "id": "gHx2Hr6Ym9IF"
      }
    },
    {
      "cell_type": "code",
      "source": [
        "from sklearn.naive_bayes import GaussianNB\n",
        "\n",
        "nb = GaussianNB()\n",
        "nb.fit(x_train, y_train)\n",
        "\n",
        "print('Training set score of SVM Algorithm: {:.2f}%'.format(nb.score(x_train, y_train)*100))\n",
        "print('Testing set score of SVM Algorithm: {:.2f}%'.format(nb.score(x_test, y_test)*100))\n",
        "\n",
        "nb_pred = nb.predict(x_test) #predict for the unlabeled data\n",
        "mse = mean_squared_error(y_test, nb_pred)\n",
        "rmse = math.sqrt(mean_squared_error(y_test, nb_pred))\n",
        "\n",
        "print('Mean Squared Error: {:.2f}'.format(mse))\n",
        "print('Root Mean Squared Error: {:.2f}'.format(rmse))"
      ],
      "metadata": {
        "id": "4212YDiim9aJ",
        "colab": {
          "base_uri": "https://localhost:8080/"
        },
        "outputId": "bf8f75b9-9a4b-43b9-f761-244e1e68e607"
      },
      "execution_count": null,
      "outputs": [
        {
          "output_type": "stream",
          "name": "stdout",
          "text": [
            "Training set score of SVM Algorithm: 83.25%\n",
            "Testing set score of SVM Algorithm: 83.53%\n",
            "Mean Squared Error: 0.16\n",
            "Root Mean Squared Error: 0.41\n"
          ]
        }
      ]
    },
    {
      "cell_type": "code",
      "source": [
        "fig, ax = plt.subplots(figsize=(10,10))\n",
        "plot_confusion_matrix(nb, x_test, y_test, cmap='Greys', display_labels=['NO Diabetes','Diabetes'], ax=ax)\n",
        "plt.title('Confusion Matrix for GaussianNB', fontsize=20)\n",
        "plt.show()"
      ],
      "metadata": {
        "id": "X1qznRdznAoW",
        "colab": {
          "base_uri": "https://localhost:8080/",
          "height": 574
        },
        "outputId": "a107fa8a-e4ee-4eb0-eb24-a9ef74db84d0"
      },
      "execution_count": null,
      "outputs": [
        {
          "output_type": "display_data",
          "data": {
            "text/plain": [
              "<Figure size 720x720 with 2 Axes>"
            ],
            "image/png": "[encoded data removed]"
          },
          "metadata": {
            "needs_background": "light"
          }
        }
      ]
    },
    {
      "cell_type": "markdown",
      "source": [
        "### 6. Model Sex: Support Vector Machines(SVM) algorithm."
      ],
      "metadata": {
        "id": "vQ9EFeBXQgge"
      }
    },
    {
      "cell_type": "code",
      "source": [
        "# from sklearn.svm import SVC\n",
        "\n",
        "# svc = SVC(kernel='linear')\n",
        "\n",
        "# svc.fit(x_train, y_train)\n",
        "\n",
        "# print('Training set score of SVC Algorithm: {:.2f}%'.format(svc.score(x_train, y_train)*100))\n",
        "# print('Test set score of SVC Algorithm: {:.2f}%'.format(svc.score(x_test, y_test)*100))"
      ],
      "metadata": {
        "colab": {
          "base_uri": "https://localhost:8080/"
        },
        "id": "8mwMYimSQjtl",
        "outputId": "f569a523-7692-4ded-a4a8-17034523a5c8"
      },
      "execution_count": null,
      "outputs": [
        {
          "output_type": "stream",
          "name": "stdout",
          "text": [
            "Training set score of SVC Algorithm: 86.02%\n",
            "Test set score of SVC Algorithm: 85.83%\n"
          ]
        }
      ]
    },
    {
      "cell_type": "markdown",
      "source": [
        "## **SAVE THE BEST MODEL**"
      ],
      "metadata": {
        "id": "WJtfFaR2Xdbk"
      }
    },
    {
      "cell_type": "code",
      "source": [
        "import pickle\n",
        "pickle.dump(forest, open(\"forest.pkl\", \"wb\")) #save the model"
      ],
      "metadata": {
        "id": "8cyUg254XdlE"
      },
      "execution_count": null,
      "outputs": []
    },
    {
      "cell_type": "markdown",
      "source": [
        "## **MODEL DEPLOYMENT🚀**"
      ],
      "metadata": {
        "id": "5iSSoSn4Xeq8"
      }
    },
    {
      "cell_type": "code",
      "source": [
        "pip install gradio"
      ],
      "metadata": {
        "id": "iA5UzHC3FCX0"
      },
      "execution_count": null,
      "outputs": []
    },
    {
      "cell_type": "code",
      "source": [
        "import gradio as gr\n",
        "def make_prediction(Age, DiffWalk, PhysHlth, GenHlth, HeartDiseaseorAttack, BMI, HighChol, HighBP):\n",
        "    with open(\"forest.pkl\", \"rb\") as f:\n",
        "        clf  = pickle.load(f)\n",
        "        preds = clf.predict([[Age, DiffWalk, PhysHlth, GenHlth, HeartDiseaseorAttack, BMI, HighChol, HighBP]])\n",
        "    if preds == 1:\n",
        "      return \"Diabetes🍬\"\n",
        "    else:\n",
        "      return \"NO Diabetes😊\"\n",
        "\n",
        "#Create the input component for Gradio\n",
        "Age = gr.Number(label = \"13-level age category 1 = 18-24, 2 = 25-29, 3 = 30-34, 4 = 35-39, 5 = 40-44, 6 = 45-49, 7 = 50-54, 8 = 55-59, 9 = 60-64, 10 = 65-69, 11 = 70-74, 12 = 75-79, 13 = 80 or older\")\n",
        "DiffWalk = gr.Number(label= \"Do you have serious difficulty walking or climbing stairs? 0=no, 1=yes\")\n",
        "PhysHlth = gr.Number(label= \"How many days during the past 30 days was your physical health not good? scale 1-30 days\")\n",
        "GenHlth = gr.Number(label= \"Would you say that in general your health is: 1=excellent, 2=very good, 3=good, 4=fair, 5=poor\")\n",
        "HeartDiseaseorAttack = gr.Number(label = \"Coronary heart disease (CHD) or myocardial infarction (MI) 0=no, 1=yes\")\n",
        "BMI = gr.Number(label = \"Body Mass Index (BMI Categories: Underweight=<18.5, Normal weight=18.5–24.9, Overweight=25–29.9, Obesity=BMI of 30 or greater)\")\n",
        "HighChol = gr.Number(label = \"0=no high cholesterol, 1=high cholesterol\")\n",
        "HighBP = gr.Number(label = \"0=no high BP, 1=high BP\")\n",
        "\n",
        "result = gr.Textbox(label= \"Prediction\") # create the output\n",
        "\n",
        "app = gr.Interface(fn=make_prediction, inputs=[Age, DiffWalk, PhysHlth, GenHlth, HeartDiseaseorAttack, BMI, HighChol, HighBP], outputs=result, title=\"Diabetes Prediction🍬\")\n",
        "app.launch() #launch the app"
      ],
      "metadata": {
        "id": "IMpDhIPPXlM8",
        "colab": {
          "base_uri": "https://localhost:8080/",
          "height": 616
        },
        "outputId": "bc691a1f-188e-4e4b-a920-e76f79140598"
      },
      "execution_count": null,
      "outputs": [
        {
          "output_type": "stream",
          "name": "stdout",
          "text": [
            "Colab notebook detected. To show errors in colab notebook, set debug=True in launch()\n",
            "Note: opening Chrome Inspector may crash demo inside Colab notebooks.\n",
            "\n",
            "To create a public link, set `share=True` in `launch()`.\n"
          ]
        },
        {
          "output_type": "display_data",
          "data": {
            "text/plain": [
              "<IPython.core.display.Javascript object>"
            ],
            "application/javascript": [
              "(async (port, path, width, height, cache, element) => {\n",
              "                        if (!google.colab.kernel.accessAllowed && !cache) {\n",
              "                            return;\n",
              "                        }\n",
              "                        element.appendChild(document.createTextNode(''));\n",
              "                        const url = await google.colab.kernel.proxyPort(port, {cache});\n",
              "\n",
              "                        const external_link = document.createElement('div');\n",
              "                        external_link.innerHTML = `\n",
              "                            <div style=\"font-family: monospace; margin-bottom: 0.5rem\">\n",
              "                                Running on <a href=${new URL(path, url).toString()} target=\"_blank\">\n",
              "                                    https://localhost:${port}${path}\n",
              "                                </a>\n",
              "                            </div>\n",
              "                        `;\n",
              "                        element.appendChild(external_link);\n",
              "\n",
              "                        const iframe = document.createElement('iframe');\n",
              "                        iframe.src = new URL(path, url).toString();\n",
              "                        iframe.height = height;\n",
              "                        iframe.allow = \"autoplay; camera; microphone; clipboard-read; clipboard-write;\"\n",
              "                        iframe.width = width;\n",
              "                        iframe.style.border = 0;\n",
              "                        element.appendChild(iframe);\n",
              "                    })(7864, \"/\", \"100%\", 500, false, window.element)"
            ]
          },
          "metadata": {}
        },
        {
          "output_type": "execute_result",
          "data": {
            "text/plain": []
          },
          "metadata": {},
          "execution_count": 82
        }
      ]
    },
    {
      "cell_type": "code",
      "source": [],
      "metadata": {
        "id": "9JLN5Y7dyo-U"
      },
      "execution_count": null,
      "outputs": []
    }
  ]
}